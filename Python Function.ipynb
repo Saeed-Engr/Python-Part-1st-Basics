{
 "cells": [
  {
   "cell_type": "markdown",
   "id": "ec6fc81a",
   "metadata": {},
   "source": [
    "# create function"
   ]
  },
  {
   "cell_type": "code",
   "execution_count": 1,
   "id": "0b474136",
   "metadata": {},
   "outputs": [],
   "source": [
    "def add_number():\n",
    "    \n",
    "    \n",
    "    number1 = int(input(\"Enter the 1st number\"))\n",
    "\n",
    "    number2 = int(input(\"Enter the 2nd number\"))\n",
    "\n",
    "    print(number1 + number2)\n"
   ]
  },
  {
   "cell_type": "code",
   "execution_count": 2,
   "id": "d2668724",
   "metadata": {},
   "outputs": [
    {
     "name": "stdout",
     "output_type": "stream",
     "text": [
      "Enter the 1st number20\n",
      "Enter the 2nd number30\n",
      "50\n"
     ]
    }
   ],
   "source": [
    "add_number()    # calling function"
   ]
  },
  {
   "cell_type": "code",
   "execution_count": null,
   "id": "2642d200",
   "metadata": {},
   "outputs": [],
   "source": []
  },
  {
   "cell_type": "code",
   "execution_count": 5,
   "id": "43dc27d1",
   "metadata": {},
   "outputs": [],
   "source": [
    "def add_number(): \n",
    "                              # these values are hard coded, fixed values in function\n",
    "    print(200+300)"
   ]
  },
  {
   "cell_type": "code",
   "execution_count": 6,
   "id": "4185a0f4",
   "metadata": {},
   "outputs": [
    {
     "name": "stdout",
     "output_type": "stream",
     "text": [
      "500\n"
     ]
    }
   ],
   "source": [
    "add_number()"
   ]
  },
  {
   "cell_type": "code",
   "execution_count": null,
   "id": "dfec6ee1",
   "metadata": {},
   "outputs": [],
   "source": []
  },
  {
   "cell_type": "code",
   "execution_count": 7,
   "id": "9bb428a4",
   "metadata": {},
   "outputs": [],
   "source": [
    "def sub_number():\n",
    "    number1 = int(input(\"Enter the 1st number\"))\n",
    "\n",
    "    number2 = int(input(\"Enter the 2nd number\"))\n",
    "\n",
    "    number5 = number1 - number2\n",
    "\n",
    "    print(number5)"
   ]
  },
  {
   "cell_type": "code",
   "execution_count": 8,
   "id": "b48bd4ab",
   "metadata": {},
   "outputs": [
    {
     "name": "stdout",
     "output_type": "stream",
     "text": [
      "Enter the 1st number70\n",
      "Enter the 2nd number30\n",
      "40\n"
     ]
    }
   ],
   "source": [
    "sub_number()"
   ]
  },
  {
   "cell_type": "code",
   "execution_count": null,
   "id": "38a8db69",
   "metadata": {},
   "outputs": [],
   "source": []
  },
  {
   "cell_type": "code",
   "execution_count": 9,
   "id": "2c7a9cb0",
   "metadata": {},
   "outputs": [],
   "source": [
    "def mul():\n",
    "\n",
    "    num = 3*6\n",
    "\n",
    "    print(num)"
   ]
  },
  {
   "cell_type": "code",
   "execution_count": 10,
   "id": "a688c01b",
   "metadata": {},
   "outputs": [
    {
     "name": "stdout",
     "output_type": "stream",
     "text": [
      "18\n"
     ]
    }
   ],
   "source": [
    "mul()"
   ]
  },
  {
   "cell_type": "code",
   "execution_count": null,
   "id": "dcd4bd57",
   "metadata": {},
   "outputs": [],
   "source": []
  },
  {
   "cell_type": "code",
   "execution_count": 11,
   "id": "1771d81b",
   "metadata": {},
   "outputs": [],
   "source": [
    "def multiple():\n",
    "    num1 = int(input(\"Enter the 1st number\"))\n",
    "\n",
    "    num2 = int (input(\"Enter the 2nd number\"))\n",
    "\n",
    "    total = (num1 * num2)\n",
    "\n",
    "    print(total)"
   ]
  },
  {
   "cell_type": "code",
   "execution_count": 12,
   "id": "893d33bb",
   "metadata": {},
   "outputs": [
    {
     "name": "stdout",
     "output_type": "stream",
     "text": [
      "Enter the 1st number20\n",
      "Enter the 2nd number10\n",
      "200\n"
     ]
    }
   ],
   "source": [
    "multiple()"
   ]
  },
  {
   "cell_type": "code",
   "execution_count": null,
   "id": "a026244a",
   "metadata": {},
   "outputs": [],
   "source": []
  },
  {
   "cell_type": "code",
   "execution_count": 13,
   "id": "c0b8b8c8",
   "metadata": {},
   "outputs": [],
   "source": [
    "def multiple():\n",
    "    num1 = float(input(\"Enter the 1st value\"))\n",
    "\n",
    "    num2 = int(input(\"Enter the 2nd number\"))\n",
    "\n",
    "    total = (num1 * num2)\n",
    "\n",
    "    print(total)"
   ]
  },
  {
   "cell_type": "code",
   "execution_count": 16,
   "id": "9ac0d1f2",
   "metadata": {},
   "outputs": [
    {
     "name": "stdout",
     "output_type": "stream",
     "text": [
      "Enter the 1st value20.2\n",
      "Enter the 2nd number10\n",
      "202.0\n"
     ]
    }
   ],
   "source": [
    "multiple()"
   ]
  },
  {
   "cell_type": "code",
   "execution_count": null,
   "id": "9f1c2dda",
   "metadata": {},
   "outputs": [],
   "source": []
  },
  {
   "cell_type": "code",
   "execution_count": 17,
   "id": "61c55fea",
   "metadata": {},
   "outputs": [],
   "source": [
    "def div():\n",
    "    a = 90\n",
    "\n",
    "    b = 15\n",
    "\n",
    "    result = a/b # result in floating number by defult in python\n",
    "\n",
    "    print(result) # result = a//b , the result should be in intege"
   ]
  },
  {
   "cell_type": "code",
   "execution_count": 18,
   "id": "a440fead",
   "metadata": {},
   "outputs": [
    {
     "name": "stdout",
     "output_type": "stream",
     "text": [
      "6.0\n"
     ]
    }
   ],
   "source": [
    "div()"
   ]
  },
  {
   "cell_type": "code",
   "execution_count": 19,
   "id": "893ca5c2",
   "metadata": {},
   "outputs": [],
   "source": [
    "def div():\n",
    "    a = 90\n",
    "\n",
    "    b = 15\n",
    "\n",
    "    result = a//b  #  result = a//b , the result should be in intege\n",
    "\n",
    "    print(result) "
   ]
  },
  {
   "cell_type": "code",
   "execution_count": 20,
   "id": "fe84e146",
   "metadata": {},
   "outputs": [
    {
     "name": "stdout",
     "output_type": "stream",
     "text": [
      "6\n"
     ]
    }
   ],
   "source": [
    "div()"
   ]
  },
  {
   "cell_type": "code",
   "execution_count": null,
   "id": "c44e0ddc",
   "metadata": {},
   "outputs": [],
   "source": []
  },
  {
   "cell_type": "code",
   "execution_count": 21,
   "id": "fade466a",
   "metadata": {},
   "outputs": [],
   "source": [
    "def reminder():\n",
    "    num1 = int(input(\"Enter the first value\"))\n",
    "\n",
    "    num2 = int(input(\"Enter the 2nd value\"))\n",
    "\n",
    "    total = num1 % num2\n",
    "\n",
    "    print(total)"
   ]
  },
  {
   "cell_type": "code",
   "execution_count": 23,
   "id": "36f094e9",
   "metadata": {},
   "outputs": [
    {
     "name": "stdout",
     "output_type": "stream",
     "text": [
      "Enter the first value190\n",
      "Enter the 2nd value12\n",
      "10\n"
     ]
    }
   ],
   "source": [
    "reminder()"
   ]
  },
  {
   "cell_type": "code",
   "execution_count": null,
   "id": "17172835",
   "metadata": {},
   "outputs": [],
   "source": []
  },
  {
   "cell_type": "markdown",
   "id": "0fd826ad",
   "metadata": {},
   "source": [
    "# PASSING INFORMATION BY POSITIONAL ARGUMENTS"
   ]
  },
  {
   "cell_type": "markdown",
   "id": "95042f10",
   "metadata": {},
   "source": [
    "there are two type of functions\n",
    "- parameter less function\n",
    "- parameterized function "
   ]
  },
  {
   "cell_type": "markdown",
   "id": "dea2c9c3",
   "metadata": {},
   "source": [
    "Define Parameter less Function\n",
    "-\n"
   ]
  },
  {
   "cell_type": "markdown",
   "id": "6bf1accc",
   "metadata": {},
   "source": [
    "- def is a key-word\n",
    "- function name\n",
    "- bracket or parenthysis\n",
    "- colon\n"
   ]
  },
  {
   "cell_type": "markdown",
   "id": "a1a141c7",
   "metadata": {},
   "source": [
    "def add_number(): -  if parenthysis is empty ,its mean that\n",
    "- it is a parameter less function\n"
   ]
  },
  {
   "cell_type": "code",
   "execution_count": null,
   "id": "6e608099",
   "metadata": {},
   "outputs": [],
   "source": []
  },
  {
   "cell_type": "markdown",
   "id": "0e8ba976",
   "metadata": {},
   "source": [
    "# PARAMETERIZED FUNCTION\n"
   ]
  },
  {
   "cell_type": "code",
   "execution_count": 29,
   "id": "101d2eb3",
   "metadata": {},
   "outputs": [],
   "source": [
    "def add_numbers(num1, num2):\n",
    "    \n",
    " # variables name or value in parenthysis are known as PARAMETERS\n",
    "   print(num1+num2)"
   ]
  },
  {
   "cell_type": "code",
   "execution_count": 30,
   "id": "fdf3577a",
   "metadata": {},
   "outputs": [
    {
     "name": "stdout",
     "output_type": "stream",
     "text": [
      "90\n"
     ]
    }
   ],
   "source": [
    "add_numbers(20,70)"
   ]
  },
  {
   "cell_type": "code",
   "execution_count": null,
   "id": "20f52f69",
   "metadata": {},
   "outputs": [],
   "source": []
  },
  {
   "cell_type": "markdown",
   "id": "eb1f572e",
   "metadata": {},
   "source": [
    "posotional arguments"
   ]
  },
  {
   "cell_type": "code",
   "execution_count": 31,
   "id": "9f3360aa",
   "metadata": {},
   "outputs": [],
   "source": [
    "def sub(num1, num2):\n",
    "\n",
    "    print(num1-num2)"
   ]
  },
  {
   "cell_type": "code",
   "execution_count": 32,
   "id": "96d92f21",
   "metadata": {},
   "outputs": [
    {
     "name": "stdout",
     "output_type": "stream",
     "text": [
      "130\n"
     ]
    }
   ],
   "source": [
    "sub(200,70)"
   ]
  },
  {
   "cell_type": "code",
   "execution_count": null,
   "id": "1aba213b",
   "metadata": {},
   "outputs": [],
   "source": []
  },
  {
   "cell_type": "markdown",
   "id": "d9dab5f6",
   "metadata": {},
   "source": [
    "KEY-WORD ARGUMENTS\n"
   ]
  },
  {
   "cell_type": "code",
   "execution_count": 33,
   "id": "f0fb083e",
   "metadata": {},
   "outputs": [],
   "source": [
    "def add_numbers(number1,number2):\n",
    "\n",
    "    print(number1+number2) # So these are key-words arguments"
   ]
  },
  {
   "cell_type": "code",
   "execution_count": 34,
   "id": "941a7e79",
   "metadata": {},
   "outputs": [
    {
     "name": "stdout",
     "output_type": "stream",
     "text": [
      "300\n"
     ]
    }
   ],
   "source": [
    "add_numbers(number2=200, number1=100)   # in key-words arguments position not matter or should be changed"
   ]
  },
  {
   "cell_type": "code",
   "execution_count": null,
   "id": "051f1fe1",
   "metadata": {},
   "outputs": [],
   "source": []
  },
  {
   "cell_type": "code",
   "execution_count": 35,
   "id": "48cff299",
   "metadata": {},
   "outputs": [],
   "source": [
    "def full_name(first,middle,last):\n",
    "\n",
    "    print(first+middle+last)"
   ]
  },
  {
   "cell_type": "code",
   "execution_count": 36,
   "id": "1c712433",
   "metadata": {},
   "outputs": [
    {
     "name": "stdout",
     "output_type": "stream",
     "text": [
      "RANASAEEDENGR\n"
     ]
    }
   ],
   "source": [
    "full_name(\"RANA\",\"SAEED\",\"ENGR\")\n"
   ]
  },
  {
   "cell_type": "markdown",
   "id": "adba51b6",
   "metadata": {},
   "source": [
    "Key-Word Arguments"
   ]
  },
  {
   "cell_type": "code",
   "execution_count": 37,
   "id": "17f9c7ae",
   "metadata": {},
   "outputs": [],
   "source": [
    "def fullName(middle=\"Muhammad\",last=\"Saeed\",first=\"Rana\"):\n",
    "\n",
    " print(first+middle+last)"
   ]
  },
  {
   "cell_type": "code",
   "execution_count": 38,
   "id": "335e6fe0",
   "metadata": {},
   "outputs": [
    {
     "name": "stdout",
     "output_type": "stream",
     "text": [
      "RanaMuhammadSaeed\n"
     ]
    }
   ],
   "source": [
    "fullName()"
   ]
  },
  {
   "cell_type": "code",
   "execution_count": null,
   "id": "570695f0",
   "metadata": {},
   "outputs": [],
   "source": []
  },
  {
   "cell_type": "code",
   "execution_count": 39,
   "id": "9ca71209",
   "metadata": {},
   "outputs": [],
   "source": [
    "def fullName(first,middle,last=\"Saeed\"):\n",
    "\n",
    "    print(first+middle+last)"
   ]
  },
  {
   "cell_type": "code",
   "execution_count": 40,
   "id": "62466cfa",
   "metadata": {},
   "outputs": [
    {
     "name": "stdout",
     "output_type": "stream",
     "text": [
      "MRRanaSaeed\n"
     ]
    }
   ],
   "source": [
    "fullName(\"MR\",\"Rana\")"
   ]
  },
  {
   "cell_type": "code",
   "execution_count": null,
   "id": "fad47550",
   "metadata": {},
   "outputs": [],
   "source": []
  },
  {
   "cell_type": "markdown",
   "id": "637c26ed",
   "metadata": {},
   "source": [
    "# DEALING WITH AN UNKNOWN NUMBER OR ARBITARARY NUMBER"
   ]
  },
  {
   "cell_type": "code",
   "execution_count": 41,
   "id": "93f572e7",
   "metadata": {},
   "outputs": [],
   "source": [
    "def pizzaorder(size,flavour,*toppings):          # we first define toppings with steric\n",
    "\n",
    "    print(f\"your order for pizza of{size},flavour{flavour},and toppings{toppings} is ready\")"
   ]
  },
  {
   "cell_type": "code",
   "execution_count": 42,
   "id": "f0ae16bc",
   "metadata": {},
   "outputs": [
    {
     "name": "stdout",
     "output_type": "stream",
     "text": [
      "your order for pizza of12,flavourchikentikka,and toppings('olives', 'fruits', 'tea') is ready\n"
     ]
    }
   ],
   "source": [
    "pizzaorder(12,\"chikentikka\",\"olives\",\"fruits\",\"tea\")"
   ]
  },
  {
   "cell_type": "code",
   "execution_count": null,
   "id": "5fed1324",
   "metadata": {},
   "outputs": [],
   "source": []
  },
  {
   "cell_type": "markdown",
   "id": "a6145463",
   "metadata": {},
   "source": [
    "# LOCAL AND GLOBAL VARIABLES in function\n"
   ]
  },
  {
   "cell_type": "code",
   "execution_count": 47,
   "id": "43b2f4ba",
   "metadata": {},
   "outputs": [],
   "source": [
    "def beHappy():\n",
    "    \n",
    "    name =\" Mr A\"\n",
    "                           # name variable define inside the function ,so it is a local variable\n",
    "\n",
    "    print(f\"{name} is very happy today\")"
   ]
  },
  {
   "cell_type": "code",
   "execution_count": 48,
   "id": "e0179f2e",
   "metadata": {},
   "outputs": [
    {
     "name": "stdout",
     "output_type": "stream",
     "text": [
      " Mr A is very happy today\n"
     ]
    }
   ],
   "source": [
    "beHappy()"
   ]
  },
  {
   "cell_type": "code",
   "execution_count": null,
   "id": "fa723a0f",
   "metadata": {},
   "outputs": [],
   "source": [
    "print(name)            # error occurs,name variable not define because its scope is inside the function "
   ]
  },
  {
   "cell_type": "code",
   "execution_count": null,
   "id": "8b1f93c3",
   "metadata": {},
   "outputs": [],
   "source": []
  },
  {
   "cell_type": "code",
   "execution_count": 50,
   "id": "3df353d4",
   "metadata": {},
   "outputs": [],
   "source": [
    "another_name = \"Mr B\"\n",
    "                 # another_name variable have declear outside the function,so it have scope outside the fuction\n",
    "def sad():\n",
    "\n",
    "    print(f\"{another_name} is very sad today\")"
   ]
  },
  {
   "cell_type": "code",
   "execution_count": 51,
   "id": "085a7d6d",
   "metadata": {},
   "outputs": [
    {
     "name": "stdout",
     "output_type": "stream",
     "text": [
      "Mr B is very sad today\n"
     ]
    }
   ],
   "source": [
    "sad()"
   ]
  },
  {
   "cell_type": "code",
   "execution_count": 52,
   "id": "91bc1781",
   "metadata": {},
   "outputs": [
    {
     "data": {
      "text/plain": [
       "'Mr B'"
      ]
     },
     "execution_count": 52,
     "metadata": {},
     "output_type": "execute_result"
    }
   ],
   "source": [
    "another_name    #  it means that another_name variable is Global variables\n"
   ]
  },
  {
   "cell_type": "code",
   "execution_count": null,
   "id": "6aa488e1",
   "metadata": {},
   "outputs": [],
   "source": []
  },
  {
   "cell_type": "code",
   "execution_count": 57,
   "id": "46fb8ee7",
   "metadata": {},
   "outputs": [],
   "source": [
    "def commissioncalc(sales):\n",
    "    \n",
    "    if sales>100 :\n",
    "        return sales*100\n",
    "    elif sales>50:\n",
    "        return sales*50\n",
    "    elif sales>20:\n",
    "        return sales*20\n",
    "    else:\n",
    "        return 0\n",
    "\n",
    "def salarycalc(basics,sales):\n",
    "\n",
    "        grosssalary = basics + commissioncalc(sales)\n",
    "\n",
    "        print(f\"your gross salary is {grosssalary}\")\n"
   ]
  },
  {
   "cell_type": "code",
   "execution_count": 58,
   "id": "baa3cf37",
   "metadata": {},
   "outputs": [
    {
     "name": "stdout",
     "output_type": "stream",
     "text": [
      "your gross salary is 32000\n"
     ]
    }
   ],
   "source": [
    "salarycalc(20000,120)"
   ]
  },
  {
   "cell_type": "code",
   "execution_count": 59,
   "id": "e668cdfa",
   "metadata": {},
   "outputs": [
    {
     "data": {
      "text/plain": [
       "12000"
      ]
     },
     "execution_count": 59,
     "metadata": {},
     "output_type": "execute_result"
    }
   ],
   "source": [
    "120*100"
   ]
  },
  {
   "cell_type": "code",
   "execution_count": null,
   "id": "e9e89e04",
   "metadata": {},
   "outputs": [],
   "source": []
  }
 ],
 "metadata": {
  "kernelspec": {
   "display_name": "Python 3 (ipykernel)",
   "language": "python",
   "name": "python3"
  },
  "language_info": {
   "codemirror_mode": {
    "name": "ipython",
    "version": 3
   },
   "file_extension": ".py",
   "mimetype": "text/x-python",
   "name": "python",
   "nbconvert_exporter": "python",
   "pygments_lexer": "ipython3",
   "version": "3.9.7"
  }
 },
 "nbformat": 4,
 "nbformat_minor": 5
}
