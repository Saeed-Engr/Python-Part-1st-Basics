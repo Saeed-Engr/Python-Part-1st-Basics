{
 "cells": [
  {
   "cell_type": "markdown",
   "id": "489e38b5",
   "metadata": {},
   "source": [
    "# Welcome to python tutorial"
   ]
  },
  {
   "cell_type": "code",
   "execution_count": null,
   "id": "edde507c",
   "metadata": {},
   "outputs": [],
   "source": []
  },
  {
   "cell_type": "code",
   "execution_count": 8,
   "id": "b4c9deab",
   "metadata": {},
   "outputs": [
    {
     "name": "stdout",
     "output_type": "stream",
     "text": [
      "2839\n"
     ]
    }
   ],
   "source": [
    "print(2839)\n"
   ]
  },
  {
   "cell_type": "code",
   "execution_count": 9,
   "id": "4052e7cc",
   "metadata": {},
   "outputs": [
    {
     "name": "stdout",
     "output_type": "stream",
     "text": [
      "python programming\n"
     ]
    }
   ],
   "source": [
    "print(\"python programming\")"
   ]
  },
  {
   "cell_type": "code",
   "execution_count": 10,
   "id": "49ce2f5b",
   "metadata": {},
   "outputs": [
    {
     "name": "stdout",
     "output_type": "stream",
     "text": [
      "89329032.8344\n"
     ]
    }
   ],
   "source": [
    "print(89329032.8344)"
   ]
  },
  {
   "cell_type": "code",
   "execution_count": 11,
   "id": "0de0a1cd",
   "metadata": {},
   "outputs": [
    {
     "name": "stdout",
     "output_type": "stream",
     "text": [
      "<class 'int'>\n"
     ]
    }
   ],
   "source": [
    "data = 3030\n",
    "\n",
    "print(type(data))"
   ]
  },
  {
   "cell_type": "code",
   "execution_count": 12,
   "id": "0be8d33b",
   "metadata": {},
   "outputs": [
    {
     "name": "stdout",
     "output_type": "stream",
     "text": [
      "<class 'float'>\n",
      "303.33\n"
     ]
    }
   ],
   "source": [
    "da = 303.33\n",
    "\n",
    "print(type(da))\n",
    "print(da)"
   ]
  },
  {
   "cell_type": "code",
   "execution_count": 13,
   "id": "c61f771c",
   "metadata": {},
   "outputs": [
    {
     "data": {
      "text/plain": [
       "str"
      ]
     },
     "execution_count": 13,
     "metadata": {},
     "output_type": "execute_result"
    }
   ],
   "source": [
    "str = 'Rana'\n",
    "\n",
    "type(str)"
   ]
  },
  {
   "cell_type": "markdown",
   "id": "4fc9797a",
   "metadata": {},
   "source": [
    "' ' single\n",
    "\n",
    "\" \" double"
   ]
  },
  {
   "cell_type": "code",
   "execution_count": 15,
   "id": "f7b6d500",
   "metadata": {},
   "outputs": [
    {
     "data": {
      "text/plain": [
       "str"
      ]
     },
     "execution_count": 15,
     "metadata": {},
     "output_type": "execute_result"
    }
   ],
   "source": [
    "num = '300'\n",
    "\n",
    "type(num)"
   ]
  },
  {
   "cell_type": "code",
   "execution_count": 16,
   "id": "a619c251",
   "metadata": {},
   "outputs": [
    {
     "data": {
      "text/plain": [
       "str"
      ]
     },
     "execution_count": 16,
     "metadata": {},
     "output_type": "execute_result"
    }
   ],
   "source": [
    "num = \"300\"\n",
    "\n",
    "type(num)"
   ]
  },
  {
   "cell_type": "code",
   "execution_count": 17,
   "id": "17e66a10",
   "metadata": {},
   "outputs": [
    {
     "data": {
      "text/plain": [
       "str"
      ]
     },
     "execution_count": 17,
     "metadata": {},
     "output_type": "execute_result"
    }
   ],
   "source": [
    "# We are studing python programming for machine learning\n",
    "\n",
    "num = \"300\"\n",
    "\n",
    "type(num)"
   ]
  },
  {
   "cell_type": "code",
   "execution_count": 18,
   "id": "716b5d68",
   "metadata": {},
   "outputs": [],
   "source": [
    "#  single line comment\n",
    "\n",
    "#num = \"300\"\n",
    "#type(num)\n"
   ]
  },
  {
   "cell_type": "code",
   "execution_count": null,
   "id": "53185339",
   "metadata": {},
   "outputs": [],
   "source": []
  },
  {
   "cell_type": "code",
   "execution_count": 19,
   "id": "13daca03",
   "metadata": {},
   "outputs": [
    {
     "name": "stdout",
     "output_type": "stream",
     "text": [
      "Rana Seeed\n"
     ]
    }
   ],
   "source": [
    "print(\"Rana Seeed\")"
   ]
  },
  {
   "cell_type": "raw",
   "id": "c835af73",
   "metadata": {},
   "source": [
    "User input\n",
    "variable type\n"
   ]
  },
  {
   "cell_type": "code",
   "execution_count": 20,
   "id": "970ac5ae",
   "metadata": {},
   "outputs": [
    {
     "name": "stdout",
     "output_type": "stream",
     "text": [
      "100\n"
     ]
    }
   ],
   "source": [
    "data = 939\n",
    "\n",
    "data = 100\n",
    "\n",
    "print(data)"
   ]
  },
  {
   "cell_type": "code",
   "execution_count": 21,
   "id": "67f9172c",
   "metadata": {},
   "outputs": [
    {
     "name": "stdout",
     "output_type": "stream",
     "text": [
      "300\n"
     ]
    }
   ],
   "source": [
    "da = 100\n",
    "num = 200\n",
    "sum = da + num\n",
    "print(sum)"
   ]
  },
  {
   "cell_type": "code",
   "execution_count": 22,
   "id": "2e5e3549",
   "metadata": {},
   "outputs": [
    {
     "name": "stdout",
     "output_type": "stream",
     "text": [
      "300\n"
     ]
    }
   ],
   "source": [
    "da = 100\n",
    "num = 200\n",
    "print(da + num)"
   ]
  },
  {
   "cell_type": "code",
   "execution_count": 23,
   "id": "81a551ff",
   "metadata": {},
   "outputs": [
    {
     "name": "stdout",
     "output_type": "stream",
     "text": [
      "20000\n"
     ]
    }
   ],
   "source": [
    "da = 100\n",
    "num = 200\n",
    "mul = da * num\n",
    "print(mul)"
   ]
  },
  {
   "cell_type": "code",
   "execution_count": 24,
   "id": "89e89715",
   "metadata": {},
   "outputs": [
    {
     "name": "stdout",
     "output_type": "stream",
     "text": [
      "-100\n"
     ]
    }
   ],
   "source": [
    "da = 100\n",
    "num = 200\n",
    "sum = da - num\n",
    "print(sum)"
   ]
  },
  {
   "cell_type": "code",
   "execution_count": 25,
   "id": "a0864e7c",
   "metadata": {},
   "outputs": [
    {
     "name": "stdout",
     "output_type": "stream",
     "text": [
      "5.0\n"
     ]
    }
   ],
   "source": [
    "da = 1000\n",
    "num = 200\n",
    "div = da / num\n",
    "print(div)"
   ]
  },
  {
   "cell_type": "code",
   "execution_count": 26,
   "id": "6ff598a3",
   "metadata": {},
   "outputs": [
    {
     "name": "stdout",
     "output_type": "stream",
     "text": [
      "5\n"
     ]
    }
   ],
   "source": [
    "da = 1000\n",
    "num = 200\n",
    "sum = da // num\n",
    "print(sum)"
   ]
  },
  {
   "cell_type": "code",
   "execution_count": 27,
   "id": "460dd113",
   "metadata": {},
   "outputs": [
    {
     "name": "stdout",
     "output_type": "stream",
     "text": [
      "<class 'int'>\n",
      "100\n"
     ]
    }
   ],
   "source": [
    "da = 1100\n",
    "num = 200\n",
    "sum = da % num\n",
    "\n",
    "print(type(sum))\n",
    "\n",
    "print(sum)"
   ]
  },
  {
   "cell_type": "markdown",
   "id": "cf233ad9",
   "metadata": {},
   "source": [
    "# user_input"
   ]
  },
  {
   "cell_type": "code",
   "execution_count": null,
   "id": "c49da237",
   "metadata": {},
   "outputs": [],
   "source": [
    "# user input or taking value from user or programmer"
   ]
  },
  {
   "cell_type": "code",
   "execution_count": null,
   "id": "aae6660c",
   "metadata": {},
   "outputs": [],
   "source": [
    "#    input()"
   ]
  },
  {
   "cell_type": "code",
   "execution_count": 32,
   "id": "ce32e6af",
   "metadata": {},
   "outputs": [
    {
     "name": "stdout",
     "output_type": "stream",
     "text": [
      "Enter the valuebscs, 100, 70.70\n",
      "bscs, 100, 70.70\n"
     ]
    },
    {
     "data": {
      "text/plain": [
       "str"
      ]
     },
     "execution_count": 32,
     "metadata": {},
     "output_type": "execute_result"
    }
   ],
   "source": [
    "num = input(\"Enter the value\")\n",
    "\n",
    "print(num)\n",
    "type(num)"
   ]
  },
  {
   "cell_type": "code",
   "execution_count": null,
   "id": "905f9fae",
   "metadata": {},
   "outputs": [],
   "source": []
  },
  {
   "cell_type": "code",
   "execution_count": 37,
   "id": "b4876bfd",
   "metadata": {},
   "outputs": [
    {
     "name": "stdout",
     "output_type": "stream",
     "text": [
      "Enter the integer values100\n",
      "100\n"
     ]
    }
   ],
   "source": [
    "val = int(input(\"Enter the integer values\"))\n",
    "print(val)"
   ]
  },
  {
   "cell_type": "code",
   "execution_count": null,
   "id": "742b1da5",
   "metadata": {},
   "outputs": [],
   "source": []
  },
  {
   "cell_type": "code",
   "execution_count": 39,
   "id": "9d16400a",
   "metadata": {},
   "outputs": [
    {
     "name": "stdout",
     "output_type": "stream",
     "text": [
      "Enter the integer values20.20\n",
      "20.2\n"
     ]
    }
   ],
   "source": [
    "val = float(input(\"Enter the integer values\"))\n",
    "\n",
    "print(val)"
   ]
  },
  {
   "cell_type": "code",
   "execution_count": null,
   "id": "bb6e2c6d",
   "metadata": {},
   "outputs": [],
   "source": []
  },
  {
   "cell_type": "code",
   "execution_count": null,
   "id": "ac97bd2b",
   "metadata": {},
   "outputs": [],
   "source": []
  },
  {
   "cell_type": "code",
   "execution_count": null,
   "id": "ec7df25f",
   "metadata": {},
   "outputs": [],
   "source": []
  },
  {
   "cell_type": "code",
   "execution_count": null,
   "id": "8b70626c",
   "metadata": {},
   "outputs": [],
   "source": [
    "data = int(input(\"Enter the the integer value \"))"
   ]
  },
  {
   "cell_type": "code",
   "execution_count": 40,
   "id": "2077989c",
   "metadata": {},
   "outputs": [
    {
     "name": "stdout",
     "output_type": "stream",
     "text": [
      "enter value200\n"
     ]
    },
    {
     "data": {
      "text/plain": [
       "str"
      ]
     },
     "execution_count": 40,
     "metadata": {},
     "output_type": "execute_result"
    }
   ],
   "source": [
    "d = input(\"enter value\")\n",
    "type(d)"
   ]
  },
  {
   "cell_type": "code",
   "execution_count": null,
   "id": "8c3ad54f",
   "metadata": {},
   "outputs": [],
   "source": []
  },
  {
   "cell_type": "code",
   "execution_count": 41,
   "id": "219165df",
   "metadata": {},
   "outputs": [
    {
     "data": {
      "text/plain": [
       "100"
      ]
     },
     "execution_count": 41,
     "metadata": {},
     "output_type": "execute_result"
    }
   ],
   "source": [
    "data"
   ]
  },
  {
   "cell_type": "code",
   "execution_count": null,
   "id": "ddde3618",
   "metadata": {},
   "outputs": [],
   "source": [
    "type(data)"
   ]
  },
  {
   "cell_type": "code",
   "execution_count": null,
   "id": "9005d37e",
   "metadata": {},
   "outputs": [],
   "source": [
    "float = float(input(\"Enter the floating point value\"))"
   ]
  },
  {
   "cell_type": "code",
   "execution_count": null,
   "id": "acc83da9",
   "metadata": {},
   "outputs": [],
   "source": [
    "float"
   ]
  },
  {
   "cell_type": "code",
   "execution_count": null,
   "id": "63b08098",
   "metadata": {},
   "outputs": [],
   "source": [
    "string = str(input(\"Enter the string\"))"
   ]
  },
  {
   "cell_type": "code",
   "execution_count": null,
   "id": "0640cc31",
   "metadata": {},
   "outputs": [],
   "source": [
    "string   # dealing as string"
   ]
  },
  {
   "cell_type": "code",
   "execution_count": null,
   "id": "c24f11fb",
   "metadata": {},
   "outputs": [],
   "source": []
  },
  {
   "cell_type": "code",
   "execution_count": 48,
   "id": "73b0cd3b",
   "metadata": {},
   "outputs": [
    {
     "name": "stdout",
     "output_type": "stream",
     "text": [
      "Enter the stringhy\n"
     ]
    },
    {
     "ename": "TypeError",
     "evalue": "'str' object is not callable",
     "output_type": "error",
     "traceback": [
      "\u001b[1;31m---------------------------------------------------------------------------\u001b[0m",
      "\u001b[1;31mTypeError\u001b[0m                                 Traceback (most recent call last)",
      "\u001b[1;32mC:\\Users\\RANASA~1\\AppData\\Local\\Temp/ipykernel_5784/1338036554.py\u001b[0m in \u001b[0;36m<module>\u001b[1;34m\u001b[0m\n\u001b[1;32m----> 1\u001b[1;33m \u001b[0mdata\u001b[0m \u001b[1;33m=\u001b[0m \u001b[0mstr\u001b[0m\u001b[1;33m(\u001b[0m\u001b[0minput\u001b[0m\u001b[1;33m(\u001b[0m\u001b[1;34m\"Enter the string\"\u001b[0m\u001b[1;33m)\u001b[0m\u001b[1;33m)\u001b[0m\u001b[1;33m\u001b[0m\u001b[1;33m\u001b[0m\u001b[0m\n\u001b[0m\u001b[0;32m      2\u001b[0m \u001b[1;33m\u001b[0m\u001b[0m\n\u001b[0;32m      3\u001b[0m \u001b[0mprint\u001b[0m\u001b[1;33m(\u001b[0m\u001b[0mdata\u001b[0m\u001b[1;33m)\u001b[0m\u001b[1;33m\u001b[0m\u001b[1;33m\u001b[0m\u001b[0m\n",
      "\u001b[1;31mTypeError\u001b[0m: 'str' object is not callable"
     ]
    }
   ],
   "source": [
    "data = str(input(\"Enter the string\"))\n",
    "\n",
    "print(data)"
   ]
  },
  {
   "cell_type": "code",
   "execution_count": 45,
   "id": "a20875c4",
   "metadata": {},
   "outputs": [
    {
     "data": {
      "text/plain": [
       "100"
      ]
     },
     "execution_count": 45,
     "metadata": {},
     "output_type": "execute_result"
    }
   ],
   "source": [
    "data"
   ]
  },
  {
   "cell_type": "code",
   "execution_count": null,
   "id": "6ee356dc",
   "metadata": {},
   "outputs": [],
   "source": []
  },
  {
   "cell_type": "code",
   "execution_count": null,
   "id": "5ab604e5",
   "metadata": {},
   "outputs": [],
   "source": [
    "type(data)"
   ]
  },
  {
   "cell_type": "code",
   "execution_count": null,
   "id": "045ea9d8",
   "metadata": {},
   "outputs": [],
   "source": []
  },
  {
   "cell_type": "code",
   "execution_count": null,
   "id": "a0887b98",
   "metadata": {},
   "outputs": [],
   "source": []
  },
  {
   "cell_type": "markdown",
   "id": "fd472daa",
   "metadata": {},
   "source": [
    "# Lists in Python"
   ]
  },
  {
   "cell_type": "raw",
   "id": "a766a1c4",
   "metadata": {},
   "source": [
    "Lists are used to store multiple items in a single variable.\n",
    "\n",
    "Lists are one of 4 built-in data types in Python used to store collections of data,\n",
    "the other 3 are Tuple, Set, and Dictionary, all with different qualities and usage."
   ]
  },
  {
   "cell_type": "code",
   "execution_count": null,
   "id": "75f35306",
   "metadata": {},
   "outputs": [],
   "source": []
  },
  {
   "cell_type": "code",
   "execution_count": null,
   "id": "5873c324",
   "metadata": {},
   "outputs": [],
   "source": []
  },
  {
   "cell_type": "markdown",
   "id": "a40c1379",
   "metadata": {},
   "source": [
    "Creating List"
   ]
  },
  {
   "cell_type": "code",
   "execution_count": null,
   "id": "c432093f",
   "metadata": {},
   "outputs": [],
   "source": [
    "num = [12,20,34,55,]\n",
    "print(num)\n",
    "\n",
    "cities = [\"bwp\", 'lahore',\"multan\"]\n",
    "print(cities)"
   ]
  },
  {
   "cell_type": "code",
   "execution_count": 2,
   "id": "1276b9f2",
   "metadata": {},
   "outputs": [
    {
     "name": "stdout",
     "output_type": "stream",
     "text": [
      "['saeed', 'rashna', 'rabia', 'samreen', 'nagina']\n"
     ]
    }
   ],
   "source": [
    "bscs6 = [\"saeed\", 'rashna', \"rabia\", 'samreen', 'nagina']\n",
    "print(bscs6)"
   ]
  },
  {
   "cell_type": "code",
   "execution_count": null,
   "id": "480112f4",
   "metadata": {},
   "outputs": [],
   "source": []
  },
  {
   "cell_type": "code",
   "execution_count": 10,
   "id": "eef1927f",
   "metadata": {},
   "outputs": [],
   "source": [
    "names=[\"Rana\",\"saeed\",\"Ramzan\",\"Ijaz\",\"Irfan\",\"Ali\",\"Abbas\",\"Imran\",\"Amjad\"]\n",
    "\n",
    "city=[\"gogran\",\"lodhran\",\"bwp\",\"multan\"]\n",
    "\n",
    "val = [20,50,10,90,40,70,30,60]\n"
   ]
  },
  {
   "cell_type": "markdown",
   "id": "77af7fc0",
   "metadata": {},
   "source": [
    "# index()"
   ]
  },
  {
   "cell_type": "code",
   "execution_count": 11,
   "id": "3744eb18",
   "metadata": {},
   "outputs": [
    {
     "data": {
      "text/plain": [
       "['Rana', 'saeed', 'Ramzan', 'Ijaz', 'Irfan', 'Ali', 'Abbas', 'Imran', 'Amjad']"
      ]
     },
     "execution_count": 11,
     "metadata": {},
     "output_type": "execute_result"
    }
   ],
   "source": [
    "names"
   ]
  },
  {
   "cell_type": "code",
   "execution_count": 18,
   "id": "395d76df",
   "metadata": {},
   "outputs": [
    {
     "data": {
      "text/plain": [
       "'saeed'"
      ]
     },
     "execution_count": 18,
     "metadata": {},
     "output_type": "execute_result"
    }
   ],
   "source": [
    "names[1 ]"
   ]
  },
  {
   "cell_type": "code",
   "execution_count": 20,
   "id": "df869e6d",
   "metadata": {},
   "outputs": [
    {
     "data": {
      "text/plain": [
       "['Ramzan', 'Ijaz', 'Irfan']"
      ]
     },
     "execution_count": 20,
     "metadata": {},
     "output_type": "execute_result"
    }
   ],
   "source": [
    "names[-7 : -4]"
   ]
  },
  {
   "cell_type": "code",
   "execution_count": null,
   "id": "3602fd30",
   "metadata": {},
   "outputs": [],
   "source": []
  },
  {
   "cell_type": "code",
   "execution_count": 13,
   "id": "1ceaa93b",
   "metadata": {},
   "outputs": [
    {
     "data": {
      "text/plain": [
       "'Ijaz'"
      ]
     },
     "execution_count": 13,
     "metadata": {},
     "output_type": "execute_result"
    }
   ],
   "source": [
    "names[3]"
   ]
  },
  {
   "cell_type": "markdown",
   "id": "8f74d7f3",
   "metadata": {},
   "source": [
    "# Access Value from the Lists"
   ]
  },
  {
   "cell_type": "markdown",
   "id": "367b5a6c",
   "metadata": {},
   "source": [
    "lsitName + index  + = names[0]"
   ]
  },
  {
   "cell_type": "code",
   "execution_count": 21,
   "id": "7c427413",
   "metadata": {},
   "outputs": [
    {
     "data": {
      "text/plain": [
       "'Rana'"
      ]
     },
     "execution_count": 21,
     "metadata": {},
     "output_type": "execute_result"
    }
   ],
   "source": [
    "names[0]"
   ]
  },
  {
   "cell_type": "code",
   "execution_count": 22,
   "id": "21736997",
   "metadata": {},
   "outputs": [
    {
     "data": {
      "text/plain": [
       "['Rana', 'saeed', 'Ramzan', 'Ijaz', 'Irfan', 'Ali', 'Abbas', 'Imran', 'Amjad']"
      ]
     },
     "execution_count": 22,
     "metadata": {},
     "output_type": "execute_result"
    }
   ],
   "source": [
    "names"
   ]
  },
  {
   "cell_type": "code",
   "execution_count": 23,
   "id": "e369675e",
   "metadata": {},
   "outputs": [
    {
     "data": {
      "text/plain": [
       "'Imran'"
      ]
     },
     "execution_count": 23,
     "metadata": {},
     "output_type": "execute_result"
    }
   ],
   "source": [
    "names[7]"
   ]
  },
  {
   "cell_type": "markdown",
   "id": "c175e41f",
   "metadata": {},
   "source": [
    "# len()"
   ]
  },
  {
   "cell_type": "code",
   "execution_count": 24,
   "id": "262570ac",
   "metadata": {},
   "outputs": [
    {
     "data": {
      "text/plain": [
       "9"
      ]
     },
     "execution_count": 24,
     "metadata": {},
     "output_type": "execute_result"
    }
   ],
   "source": [
    "len(names)"
   ]
  },
  {
   "cell_type": "code",
   "execution_count": 25,
   "id": "6011c031",
   "metadata": {},
   "outputs": [
    {
     "data": {
      "text/plain": [
       "['Rana', 'saeed', 'Ramzan', 'Ijaz', 'Irfan', 'Ali', 'Abbas', 'Imran', 'Amjad']"
      ]
     },
     "execution_count": 25,
     "metadata": {},
     "output_type": "execute_result"
    }
   ],
   "source": [
    "names"
   ]
  },
  {
   "cell_type": "code",
   "execution_count": 26,
   "id": "336f5a40",
   "metadata": {},
   "outputs": [
    {
     "name": "stdout",
     "output_type": "stream",
     "text": [
      "[20, 50, 10, 90, 40, 70, 30, 60]\n"
     ]
    },
    {
     "data": {
      "text/plain": [
       "8"
      ]
     },
     "execution_count": 26,
     "metadata": {},
     "output_type": "execute_result"
    }
   ],
   "source": [
    "print(val)\n",
    "len(val)"
   ]
  },
  {
   "cell_type": "markdown",
   "id": "fbbaf3b2",
   "metadata": {},
   "source": [
    "# Add Value in list"
   ]
  },
  {
   "cell_type": "raw",
   "id": "1ab6afb1",
   "metadata": {},
   "source": [
    "append()\n",
    "\n",
    "extend()"
   ]
  },
  {
   "cell_type": "code",
   "execution_count": 27,
   "id": "685c7ea8",
   "metadata": {},
   "outputs": [
    {
     "data": {
      "text/plain": [
       "['Rana', 'saeed', 'Ramzan', 'Ijaz', 'Irfan', 'Ali', 'Abbas', 'Imran', 'Amjad']"
      ]
     },
     "execution_count": 27,
     "metadata": {},
     "output_type": "execute_result"
    }
   ],
   "source": [
    "names"
   ]
  },
  {
   "cell_type": "code",
   "execution_count": 28,
   "id": "de871ab9",
   "metadata": {},
   "outputs": [],
   "source": [
    "names.append(\"Shoban\") "
   ]
  },
  {
   "cell_type": "code",
   "execution_count": 29,
   "id": "ec549f36",
   "metadata": {},
   "outputs": [
    {
     "data": {
      "text/plain": [
       "['Rana',\n",
       " 'saeed',\n",
       " 'Ramzan',\n",
       " 'Ijaz',\n",
       " 'Irfan',\n",
       " 'Ali',\n",
       " 'Abbas',\n",
       " 'Imran',\n",
       " 'Amjad',\n",
       " 'Shoban']"
      ]
     },
     "execution_count": 29,
     "metadata": {},
     "output_type": "execute_result"
    }
   ],
   "source": [
    "names"
   ]
  },
  {
   "cell_type": "code",
   "execution_count": 30,
   "id": "23400024",
   "metadata": {},
   "outputs": [],
   "source": [
    "names.append(\"saghir\")"
   ]
  },
  {
   "cell_type": "code",
   "execution_count": 31,
   "id": "adf2eb42",
   "metadata": {},
   "outputs": [
    {
     "data": {
      "text/plain": [
       "['Rana',\n",
       " 'saeed',\n",
       " 'Ramzan',\n",
       " 'Ijaz',\n",
       " 'Irfan',\n",
       " 'Ali',\n",
       " 'Abbas',\n",
       " 'Imran',\n",
       " 'Amjad',\n",
       " 'Shoban',\n",
       " 'saghir']"
      ]
     },
     "execution_count": 31,
     "metadata": {},
     "output_type": "execute_result"
    }
   ],
   "source": [
    "names"
   ]
  },
  {
   "cell_type": "code",
   "execution_count": 32,
   "id": "2adbf8b9",
   "metadata": {},
   "outputs": [],
   "source": [
    "names.append(\"kashif\")"
   ]
  },
  {
   "cell_type": "code",
   "execution_count": 33,
   "id": "e1faf4fd",
   "metadata": {},
   "outputs": [
    {
     "data": {
      "text/plain": [
       "['Rana',\n",
       " 'saeed',\n",
       " 'Ramzan',\n",
       " 'Ijaz',\n",
       " 'Irfan',\n",
       " 'Ali',\n",
       " 'Abbas',\n",
       " 'Imran',\n",
       " 'Amjad',\n",
       " 'Shoban',\n",
       " 'saghir',\n",
       " 'kashif']"
      ]
     },
     "execution_count": 33,
     "metadata": {},
     "output_type": "execute_result"
    }
   ],
   "source": [
    "names"
   ]
  },
  {
   "cell_type": "markdown",
   "id": "96bce70e",
   "metadata": {},
   "source": [
    "extend()"
   ]
  },
  {
   "cell_type": "code",
   "execution_count": 34,
   "id": "f699186d",
   "metadata": {},
   "outputs": [],
   "source": [
    "names.extend([\"Saddique\",\"Asghar\",\"Shahzad\"])\n"
   ]
  },
  {
   "cell_type": "code",
   "execution_count": 35,
   "id": "d3dd128c",
   "metadata": {},
   "outputs": [
    {
     "data": {
      "text/plain": [
       "['Rana',\n",
       " 'saeed',\n",
       " 'Ramzan',\n",
       " 'Ijaz',\n",
       " 'Irfan',\n",
       " 'Ali',\n",
       " 'Abbas',\n",
       " 'Imran',\n",
       " 'Amjad',\n",
       " 'Shoban',\n",
       " 'saghir',\n",
       " 'kashif',\n",
       " 'Saddique',\n",
       " 'Asghar',\n",
       " 'Shahzad']"
      ]
     },
     "execution_count": 35,
     "metadata": {},
     "output_type": "execute_result"
    }
   ],
   "source": [
    "names"
   ]
  },
  {
   "cell_type": "code",
   "execution_count": 36,
   "id": "9f153bb4",
   "metadata": {},
   "outputs": [],
   "source": [
    "names.extend([\"ali\", \"amjad\"])"
   ]
  },
  {
   "cell_type": "code",
   "execution_count": 37,
   "id": "e5c510a1",
   "metadata": {},
   "outputs": [
    {
     "name": "stdout",
     "output_type": "stream",
     "text": [
      "['Rana', 'saeed', 'Ramzan', 'Ijaz', 'Irfan', 'Ali', 'Abbas', 'Imran', 'Amjad', 'Shoban', 'saghir', 'kashif', 'Saddique', 'Asghar', 'Shahzad', 'ali', 'amjad']\n"
     ]
    }
   ],
   "source": [
    "print(names)"
   ]
  },
  {
   "cell_type": "markdown",
   "id": "825d5fa6",
   "metadata": {},
   "source": [
    "# insert()"
   ]
  },
  {
   "cell_type": "code",
   "execution_count": 38,
   "id": "200203f6",
   "metadata": {},
   "outputs": [
    {
     "data": {
      "text/plain": [
       "['Rana',\n",
       " 'saeed',\n",
       " 'Ramzan',\n",
       " 'Ijaz',\n",
       " 'Irfan',\n",
       " 'Ali',\n",
       " 'Abbas',\n",
       " 'Imran',\n",
       " 'Amjad',\n",
       " 'Shoban',\n",
       " 'saghir',\n",
       " 'kashif',\n",
       " 'Saddique',\n",
       " 'Asghar',\n",
       " 'Shahzad',\n",
       " 'ali',\n",
       " 'amjad']"
      ]
     },
     "execution_count": 38,
     "metadata": {},
     "output_type": "execute_result"
    }
   ],
   "source": [
    "names"
   ]
  },
  {
   "cell_type": "code",
   "execution_count": 39,
   "id": "2c05dac0",
   "metadata": {},
   "outputs": [],
   "source": [
    "names.insert(3,\"Shakeel\")\n"
   ]
  },
  {
   "cell_type": "code",
   "execution_count": 40,
   "id": "ab841ef5",
   "metadata": {},
   "outputs": [
    {
     "data": {
      "text/plain": [
       "['Rana',\n",
       " 'saeed',\n",
       " 'Ramzan',\n",
       " 'Shakeel',\n",
       " 'Ijaz',\n",
       " 'Irfan',\n",
       " 'Ali',\n",
       " 'Abbas',\n",
       " 'Imran',\n",
       " 'Amjad',\n",
       " 'Shoban',\n",
       " 'saghir',\n",
       " 'kashif',\n",
       " 'Saddique',\n",
       " 'Asghar',\n",
       " 'Shahzad',\n",
       " 'ali',\n",
       " 'amjad']"
      ]
     },
     "execution_count": 40,
     "metadata": {},
     "output_type": "execute_result"
    }
   ],
   "source": [
    "names"
   ]
  },
  {
   "cell_type": "code",
   "execution_count": null,
   "id": "45194735",
   "metadata": {},
   "outputs": [],
   "source": []
  },
  {
   "cell_type": "code",
   "execution_count": null,
   "id": "8e42bf8b",
   "metadata": {},
   "outputs": [],
   "source": []
  },
  {
   "cell_type": "markdown",
   "id": "35b8ee32",
   "metadata": {},
   "source": [
    "# count()"
   ]
  },
  {
   "cell_type": "code",
   "execution_count": 41,
   "id": "623cfcb4",
   "metadata": {},
   "outputs": [
    {
     "data": {
      "text/plain": [
       "['Rana',\n",
       " 'saeed',\n",
       " 'Ramzan',\n",
       " 'Shakeel',\n",
       " 'Ijaz',\n",
       " 'Irfan',\n",
       " 'Ali',\n",
       " 'Abbas',\n",
       " 'Imran',\n",
       " 'Amjad',\n",
       " 'Shoban',\n",
       " 'saghir',\n",
       " 'kashif',\n",
       " 'Saddique',\n",
       " 'Asghar',\n",
       " 'Shahzad',\n",
       " 'ali',\n",
       " 'amjad']"
      ]
     },
     "execution_count": 41,
     "metadata": {},
     "output_type": "execute_result"
    }
   ],
   "source": [
    "names"
   ]
  },
  {
   "cell_type": "code",
   "execution_count": 42,
   "id": "13905eef",
   "metadata": {},
   "outputs": [
    {
     "data": {
      "text/plain": [
       "1"
      ]
     },
     "execution_count": 42,
     "metadata": {},
     "output_type": "execute_result"
    }
   ],
   "source": [
    "names.count(\"amjad\")"
   ]
  },
  {
   "cell_type": "code",
   "execution_count": null,
   "id": "80e65dad",
   "metadata": {},
   "outputs": [],
   "source": []
  },
  {
   "cell_type": "code",
   "execution_count": null,
   "id": "eae3feb7",
   "metadata": {},
   "outputs": [],
   "source": []
  },
  {
   "cell_type": "markdown",
   "id": "0e9e1d4b",
   "metadata": {},
   "source": [
    "# clear()"
   ]
  },
  {
   "cell_type": "code",
   "execution_count": 43,
   "id": "3f702de4",
   "metadata": {},
   "outputs": [],
   "source": [
    "num = [1,2,4,5,6,8,0]"
   ]
  },
  {
   "cell_type": "code",
   "execution_count": 44,
   "id": "a57543da",
   "metadata": {},
   "outputs": [
    {
     "data": {
      "text/plain": [
       "[1, 2, 4, 5, 6, 8, 0]"
      ]
     },
     "execution_count": 44,
     "metadata": {},
     "output_type": "execute_result"
    }
   ],
   "source": [
    "num"
   ]
  },
  {
   "cell_type": "code",
   "execution_count": 45,
   "id": "53514c86",
   "metadata": {},
   "outputs": [],
   "source": [
    "num.clear()"
   ]
  },
  {
   "cell_type": "code",
   "execution_count": 46,
   "id": "88708faf",
   "metadata": {},
   "outputs": [
    {
     "data": {
      "text/plain": [
       "[]"
      ]
     },
     "execution_count": 46,
     "metadata": {},
     "output_type": "execute_result"
    }
   ],
   "source": [
    "num"
   ]
  },
  {
   "cell_type": "code",
   "execution_count": 47,
   "id": "0e6a39d2",
   "metadata": {},
   "outputs": [
    {
     "data": {
      "text/plain": [
       "0"
      ]
     },
     "execution_count": 47,
     "metadata": {},
     "output_type": "execute_result"
    }
   ],
   "source": [
    "len(num)"
   ]
  },
  {
   "cell_type": "code",
   "execution_count": null,
   "id": "a07cc7c9",
   "metadata": {},
   "outputs": [],
   "source": []
  },
  {
   "cell_type": "markdown",
   "id": "ed285e8b",
   "metadata": {},
   "source": [
    "# copy()"
   ]
  },
  {
   "cell_type": "code",
   "execution_count": 48,
   "id": "2ac87b49",
   "metadata": {},
   "outputs": [
    {
     "data": {
      "text/plain": [
       "['gogran', 'lodhran', 'bwp', 'multan']"
      ]
     },
     "execution_count": 48,
     "metadata": {},
     "output_type": "execute_result"
    }
   ],
   "source": [
    "city"
   ]
  },
  {
   "cell_type": "raw",
   "id": "4848f0ae",
   "metadata": {},
   "source": [
    "copy by value\n",
    "\n",
    "copy by refference"
   ]
  },
  {
   "cell_type": "code",
   "execution_count": 49,
   "id": "a9658962",
   "metadata": {},
   "outputs": [
    {
     "name": "stdout",
     "output_type": "stream",
     "text": [
      "['gogran', 'lodhran', 'bwp', 'multan']\n"
     ]
    }
   ],
   "source": [
    "city1 = city.copy() \n",
    "\n",
    "#copy  by value\n",
    "\n",
    "print(city1)"
   ]
  },
  {
   "cell_type": "code",
   "execution_count": 50,
   "id": "384e044f",
   "metadata": {},
   "outputs": [
    {
     "name": "stdout",
     "output_type": "stream",
     "text": [
      "['gogran', 'lodhran', 'bwp', 'multan']\n"
     ]
    }
   ],
   "source": [
    "city2 = city    \n",
    "\n",
    "# copy by refference\n",
    "\n",
    "print(city2)"
   ]
  },
  {
   "cell_type": "code",
   "execution_count": 51,
   "id": "81346060",
   "metadata": {},
   "outputs": [],
   "source": [
    "city.append(\"hello\")"
   ]
  },
  {
   "cell_type": "code",
   "execution_count": 52,
   "id": "f5662376",
   "metadata": {},
   "outputs": [
    {
     "data": {
      "text/plain": [
       "['gogran', 'lodhran', 'bwp', 'multan', 'hello']"
      ]
     },
     "execution_count": 52,
     "metadata": {},
     "output_type": "execute_result"
    }
   ],
   "source": [
    "city"
   ]
  },
  {
   "cell_type": "code",
   "execution_count": 53,
   "id": "433162aa",
   "metadata": {},
   "outputs": [
    {
     "data": {
      "text/plain": [
       "['gogran', 'lodhran', 'bwp', 'multan']"
      ]
     },
     "execution_count": 53,
     "metadata": {},
     "output_type": "execute_result"
    }
   ],
   "source": [
    "city1"
   ]
  },
  {
   "cell_type": "code",
   "execution_count": 54,
   "id": "0b9bd899",
   "metadata": {},
   "outputs": [
    {
     "data": {
      "text/plain": [
       "['gogran', 'lodhran', 'bwp', 'multan', 'hello']"
      ]
     },
     "execution_count": 54,
     "metadata": {},
     "output_type": "execute_result"
    }
   ],
   "source": [
    "city2"
   ]
  },
  {
   "cell_type": "code",
   "execution_count": null,
   "id": "758b2ab9",
   "metadata": {},
   "outputs": [],
   "source": []
  },
  {
   "cell_type": "code",
   "execution_count": null,
   "id": "4310bcd5",
   "metadata": {},
   "outputs": [],
   "source": []
  },
  {
   "cell_type": "markdown",
   "id": "bf7bce61",
   "metadata": {},
   "source": [
    "# remove()"
   ]
  },
  {
   "cell_type": "code",
   "execution_count": 55,
   "id": "8d420c69",
   "metadata": {},
   "outputs": [
    {
     "data": {
      "text/plain": [
       "['gogran', 'lodhran', 'bwp', 'multan', 'hello']"
      ]
     },
     "execution_count": 55,
     "metadata": {},
     "output_type": "execute_result"
    }
   ],
   "source": [
    "city"
   ]
  },
  {
   "cell_type": "code",
   "execution_count": 56,
   "id": "43a35351",
   "metadata": {},
   "outputs": [],
   "source": [
    "city.remove(\"hello\")"
   ]
  },
  {
   "cell_type": "code",
   "execution_count": 57,
   "id": "b723bb7d",
   "metadata": {},
   "outputs": [
    {
     "data": {
      "text/plain": [
       "['gogran', 'lodhran', 'bwp', 'multan']"
      ]
     },
     "execution_count": 57,
     "metadata": {},
     "output_type": "execute_result"
    }
   ],
   "source": [
    "city"
   ]
  },
  {
   "cell_type": "code",
   "execution_count": 58,
   "id": "d4d44308",
   "metadata": {},
   "outputs": [
    {
     "data": {
      "text/plain": [
       "['Rana',\n",
       " 'saeed',\n",
       " 'Ramzan',\n",
       " 'Shakeel',\n",
       " 'Ijaz',\n",
       " 'Irfan',\n",
       " 'Ali',\n",
       " 'Abbas',\n",
       " 'Imran',\n",
       " 'Amjad',\n",
       " 'Shoban',\n",
       " 'saghir',\n",
       " 'kashif',\n",
       " 'Saddique',\n",
       " 'Asghar',\n",
       " 'Shahzad',\n",
       " 'ali',\n",
       " 'amjad']"
      ]
     },
     "execution_count": 58,
     "metadata": {},
     "output_type": "execute_result"
    }
   ],
   "source": [
    "names"
   ]
  },
  {
   "cell_type": "code",
   "execution_count": 59,
   "id": "6fd850c0",
   "metadata": {},
   "outputs": [
    {
     "data": {
      "text/plain": [
       "['Rana',\n",
       " 'saeed',\n",
       " 'Ramzan',\n",
       " 'Shakeel',\n",
       " 'Ijaz',\n",
       " 'Irfan',\n",
       " 'Ali',\n",
       " 'Abbas',\n",
       " 'Imran',\n",
       " 'Amjad',\n",
       " 'Shoban',\n",
       " 'saghir',\n",
       " 'kashif',\n",
       " 'Saddique',\n",
       " 'Asghar',\n",
       " 'ali',\n",
       " 'amjad']"
      ]
     },
     "execution_count": 59,
     "metadata": {},
     "output_type": "execute_result"
    }
   ],
   "source": [
    "names.remove(\"Shahzad\")\n",
    "names"
   ]
  },
  {
   "cell_type": "markdown",
   "id": "a2b1a1a2",
   "metadata": {},
   "source": [
    "# del keywords"
   ]
  },
  {
   "cell_type": "code",
   "execution_count": 60,
   "id": "7567ef3a",
   "metadata": {},
   "outputs": [
    {
     "data": {
      "text/plain": [
       "['Rana',\n",
       " 'saeed',\n",
       " 'Ramzan',\n",
       " 'Shakeel',\n",
       " 'Ijaz',\n",
       " 'Irfan',\n",
       " 'Ali',\n",
       " 'Abbas',\n",
       " 'Imran',\n",
       " 'Amjad',\n",
       " 'Shoban',\n",
       " 'saghir',\n",
       " 'kashif',\n",
       " 'Saddique',\n",
       " 'Asghar',\n",
       " 'ali',\n",
       " 'amjad']"
      ]
     },
     "execution_count": 60,
     "metadata": {},
     "output_type": "execute_result"
    }
   ],
   "source": [
    "names"
   ]
  },
  {
   "cell_type": "code",
   "execution_count": 61,
   "id": "ea88ffcf",
   "metadata": {},
   "outputs": [],
   "source": [
    "del names[5]"
   ]
  },
  {
   "cell_type": "code",
   "execution_count": 62,
   "id": "485616be",
   "metadata": {},
   "outputs": [
    {
     "data": {
      "text/plain": [
       "['Rana',\n",
       " 'saeed',\n",
       " 'Ramzan',\n",
       " 'Shakeel',\n",
       " 'Ijaz',\n",
       " 'Ali',\n",
       " 'Abbas',\n",
       " 'Imran',\n",
       " 'Amjad',\n",
       " 'Shoban',\n",
       " 'saghir',\n",
       " 'kashif',\n",
       " 'Saddique',\n",
       " 'Asghar',\n",
       " 'ali',\n",
       " 'amjad']"
      ]
     },
     "execution_count": 62,
     "metadata": {},
     "output_type": "execute_result"
    }
   ],
   "source": [
    "names"
   ]
  },
  {
   "cell_type": "code",
   "execution_count": null,
   "id": "71c37adf",
   "metadata": {},
   "outputs": [],
   "source": []
  },
  {
   "cell_type": "code",
   "execution_count": null,
   "id": "ec82e5fe",
   "metadata": {},
   "outputs": [],
   "source": []
  },
  {
   "cell_type": "markdown",
   "id": "10df3152",
   "metadata": {},
   "source": [
    "# pop()"
   ]
  },
  {
   "cell_type": "code",
   "execution_count": 63,
   "id": "132e9b35",
   "metadata": {},
   "outputs": [
    {
     "data": {
      "text/plain": [
       "['Rana',\n",
       " 'saeed',\n",
       " 'Ramzan',\n",
       " 'Shakeel',\n",
       " 'Ijaz',\n",
       " 'Ali',\n",
       " 'Abbas',\n",
       " 'Imran',\n",
       " 'Amjad',\n",
       " 'Shoban',\n",
       " 'saghir',\n",
       " 'kashif',\n",
       " 'Saddique',\n",
       " 'Asghar',\n",
       " 'ali',\n",
       " 'amjad']"
      ]
     },
     "execution_count": 63,
     "metadata": {},
     "output_type": "execute_result"
    }
   ],
   "source": [
    "names"
   ]
  },
  {
   "cell_type": "code",
   "execution_count": 64,
   "id": "eb134ae5",
   "metadata": {},
   "outputs": [],
   "source": [
    "na = names.pop(0)"
   ]
  },
  {
   "cell_type": "code",
   "execution_count": 65,
   "id": "6c8d7b1a",
   "metadata": {},
   "outputs": [
    {
     "data": {
      "text/plain": [
       "'Rana'"
      ]
     },
     "execution_count": 65,
     "metadata": {},
     "output_type": "execute_result"
    }
   ],
   "source": [
    "na"
   ]
  },
  {
   "cell_type": "code",
   "execution_count": 66,
   "id": "1cb911be",
   "metadata": {},
   "outputs": [
    {
     "data": {
      "text/plain": [
       "['saeed',\n",
       " 'Ramzan',\n",
       " 'Shakeel',\n",
       " 'Ijaz',\n",
       " 'Ali',\n",
       " 'Abbas',\n",
       " 'Imran',\n",
       " 'Amjad',\n",
       " 'Shoban',\n",
       " 'saghir',\n",
       " 'kashif',\n",
       " 'Saddique',\n",
       " 'Asghar',\n",
       " 'ali',\n",
       " 'amjad']"
      ]
     },
     "execution_count": 66,
     "metadata": {},
     "output_type": "execute_result"
    }
   ],
   "source": [
    "names"
   ]
  },
  {
   "cell_type": "code",
   "execution_count": 69,
   "id": "b5d2224b",
   "metadata": {},
   "outputs": [],
   "source": [
    "names.append(na)"
   ]
  },
  {
   "cell_type": "code",
   "execution_count": 70,
   "id": "efa54b02",
   "metadata": {},
   "outputs": [
    {
     "data": {
      "text/plain": [
       "['saeed',\n",
       " 'Ramzan',\n",
       " 'Shakeel',\n",
       " 'Ijaz',\n",
       " 'Ali',\n",
       " 'Abbas',\n",
       " 'Imran',\n",
       " 'Amjad',\n",
       " 'Shoban',\n",
       " 'saghir',\n",
       " 'kashif',\n",
       " 'Saddique',\n",
       " 'Asghar',\n",
       " 'ali',\n",
       " 'amjad',\n",
       " 'Rana',\n",
       " 'Rana']"
      ]
     },
     "execution_count": 70,
     "metadata": {},
     "output_type": "execute_result"
    }
   ],
   "source": [
    "names"
   ]
  },
  {
   "cell_type": "code",
   "execution_count": null,
   "id": "b20be334",
   "metadata": {},
   "outputs": [],
   "source": []
  },
  {
   "cell_type": "code",
   "execution_count": null,
   "id": "cb4fdc31",
   "metadata": {},
   "outputs": [],
   "source": []
  },
  {
   "cell_type": "markdown",
   "id": "ebc095fb",
   "metadata": {},
   "source": [
    "# sort()"
   ]
  },
  {
   "cell_type": "code",
   "execution_count": 71,
   "id": "57c73b1a",
   "metadata": {},
   "outputs": [
    {
     "data": {
      "text/plain": [
       "[20, 50, 10, 90, 40, 70, 30, 60]"
      ]
     },
     "execution_count": 71,
     "metadata": {},
     "output_type": "execute_result"
    }
   ],
   "source": [
    "val"
   ]
  },
  {
   "cell_type": "code",
   "execution_count": 73,
   "id": "47218924",
   "metadata": {},
   "outputs": [],
   "source": [
    "val.sort()"
   ]
  },
  {
   "cell_type": "code",
   "execution_count": 74,
   "id": "a7f6e187",
   "metadata": {},
   "outputs": [
    {
     "data": {
      "text/plain": [
       "[10, 20, 30, 40, 50, 60, 70, 90]"
      ]
     },
     "execution_count": 74,
     "metadata": {},
     "output_type": "execute_result"
    }
   ],
   "source": [
    "val"
   ]
  },
  {
   "cell_type": "code",
   "execution_count": 75,
   "id": "5c7b93e4",
   "metadata": {},
   "outputs": [
    {
     "data": {
      "text/plain": [
       "['saeed',\n",
       " 'Ramzan',\n",
       " 'Shakeel',\n",
       " 'Ijaz',\n",
       " 'Ali',\n",
       " 'Abbas',\n",
       " 'Imran',\n",
       " 'Amjad',\n",
       " 'Shoban',\n",
       " 'saghir',\n",
       " 'kashif',\n",
       " 'Saddique',\n",
       " 'Asghar',\n",
       " 'ali',\n",
       " 'amjad',\n",
       " 'Rana',\n",
       " 'Rana']"
      ]
     },
     "execution_count": 75,
     "metadata": {},
     "output_type": "execute_result"
    }
   ],
   "source": [
    "names"
   ]
  },
  {
   "cell_type": "code",
   "execution_count": 76,
   "id": "faa4e833",
   "metadata": {},
   "outputs": [
    {
     "data": {
      "text/plain": [
       "['Abbas',\n",
       " 'Ali',\n",
       " 'Amjad',\n",
       " 'Asghar',\n",
       " 'Ijaz',\n",
       " 'Imran',\n",
       " 'Ramzan',\n",
       " 'Rana',\n",
       " 'Rana',\n",
       " 'Saddique',\n",
       " 'Shakeel',\n",
       " 'Shoban',\n",
       " 'ali',\n",
       " 'amjad',\n",
       " 'kashif',\n",
       " 'saeed',\n",
       " 'saghir']"
      ]
     },
     "execution_count": 76,
     "metadata": {},
     "output_type": "execute_result"
    }
   ],
   "source": [
    "names.sort()\n",
    "names"
   ]
  },
  {
   "cell_type": "code",
   "execution_count": 77,
   "id": "78774348",
   "metadata": {},
   "outputs": [
    {
     "data": {
      "text/plain": [
       "[10, 20, 30, 40, 50, 60, 70, 90]"
      ]
     },
     "execution_count": 77,
     "metadata": {},
     "output_type": "execute_result"
    }
   ],
   "source": [
    "val"
   ]
  },
  {
   "cell_type": "code",
   "execution_count": 78,
   "id": "acea6132",
   "metadata": {},
   "outputs": [],
   "source": [
    "val.sort(reverse=True)"
   ]
  },
  {
   "cell_type": "code",
   "execution_count": 79,
   "id": "b4bcccee",
   "metadata": {},
   "outputs": [
    {
     "data": {
      "text/plain": [
       "[90, 70, 60, 50, 40, 30, 20, 10]"
      ]
     },
     "execution_count": 79,
     "metadata": {},
     "output_type": "execute_result"
    }
   ],
   "source": [
    "val"
   ]
  },
  {
   "cell_type": "code",
   "execution_count": null,
   "id": "42fbc240",
   "metadata": {},
   "outputs": [],
   "source": []
  },
  {
   "cell_type": "code",
   "execution_count": null,
   "id": "98f8922f",
   "metadata": {},
   "outputs": [],
   "source": []
  },
  {
   "cell_type": "code",
   "execution_count": null,
   "id": "bf43806b",
   "metadata": {},
   "outputs": [],
   "source": []
  },
  {
   "cell_type": "code",
   "execution_count": null,
   "id": "f3f88102",
   "metadata": {},
   "outputs": [],
   "source": []
  },
  {
   "cell_type": "markdown",
   "id": "95efc206",
   "metadata": {},
   "source": [
    "# Slicing in python"
   ]
  },
  {
   "cell_type": "code",
   "execution_count": null,
   "id": "53020ebd",
   "metadata": {},
   "outputs": [],
   "source": [
    "names"
   ]
  },
  {
   "cell_type": "code",
   "execution_count": null,
   "id": "5a4f45ae",
   "metadata": {},
   "outputs": [],
   "source": [
    "names[:2]\n",
    "#start : end"
   ]
  },
  {
   "cell_type": "markdown",
   "id": "8d3465d6",
   "metadata": {},
   "source": [
    "positive and negative slicing "
   ]
  },
  {
   "cell_type": "code",
   "execution_count": null,
   "id": "9d4dc1db",
   "metadata": {},
   "outputs": [],
   "source": [
    "names[-1:]\n"
   ]
  },
  {
   "cell_type": "raw",
   "id": "fa21ff4c",
   "metadata": {},
   "source": [
    "number=[ 10  ,  25 ,  32  ,  55 ,  70  ,  85  ,  95  ,  66  ,  99  ]\n",
    "\n",
    "index    0   ,   1  ,  2   ,  3  ,   4  ,  5  ,   6  ,   7   ,   8\n",
    "  \n",
    "    indexing start from 0."
   ]
  },
  {
   "cell_type": "raw",
   "id": "74c0fedb",
   "metadata": {},
   "source": [
    "#index  -9  ,  -8  ,  -7  ,  -6  ,   -5  ,  -4  ,  -3  ,  -2  ,  -1  \n",
    "\n",
    "#   negative indexing start from -1  not 0\n",
    "\n",
    "number=[ 10  ,  25  ,  32  ,  55  ,   70  ,  85  ,  95  ,  66  ,  99  ]"
   ]
  },
  {
   "cell_type": "code",
   "execution_count": null,
   "id": "aab32cd9",
   "metadata": {},
   "outputs": [],
   "source": [
    "names[-2]"
   ]
  },
  {
   "cell_type": "code",
   "execution_count": null,
   "id": "0b6bad23",
   "metadata": {},
   "outputs": [],
   "source": []
  },
  {
   "cell_type": "markdown",
   "id": "70ab331f",
   "metadata": {},
   "source": [
    "# STEP IN SLICING"
   ]
  },
  {
   "cell_type": "code",
   "execution_count": null,
   "id": "30672344",
   "metadata": {},
   "outputs": [],
   "source": [
    "val\n",
    "\n",
    "# start: end:step"
   ]
  },
  {
   "cell_type": "code",
   "execution_count": null,
   "id": "7762b36d",
   "metadata": {},
   "outputs": [],
   "source": [
    "val[ : ]"
   ]
  },
  {
   "cell_type": "code",
   "execution_count": null,
   "id": "847fba1f",
   "metadata": {},
   "outputs": [],
   "source": [
    "val[0::2]      # 2 is a step"
   ]
  },
  {
   "cell_type": "code",
   "execution_count": null,
   "id": "a6e2ee86",
   "metadata": {},
   "outputs": [],
   "source": []
  },
  {
   "cell_type": "code",
   "execution_count": null,
   "id": "0fbd58f5",
   "metadata": {},
   "outputs": [],
   "source": []
  },
  {
   "cell_type": "markdown",
   "id": "00db2471",
   "metadata": {},
   "source": [
    "# Delete One or more values in the lsits"
   ]
  },
  {
   "cell_type": "code",
   "execution_count": null,
   "id": "10474199",
   "metadata": {},
   "outputs": [],
   "source": [
    "val"
   ]
  },
  {
   "cell_type": "code",
   "execution_count": null,
   "id": "77f2b9ae",
   "metadata": {},
   "outputs": [],
   "source": [
    "del val[1:3]"
   ]
  },
  {
   "cell_type": "code",
   "execution_count": null,
   "id": "4132f2a6",
   "metadata": {},
   "outputs": [],
   "source": [
    "val"
   ]
  },
  {
   "cell_type": "code",
   "execution_count": null,
   "id": "fcde5783",
   "metadata": {},
   "outputs": [],
   "source": [
    "names"
   ]
  },
  {
   "cell_type": "code",
   "execution_count": null,
   "id": "c2fec8f3",
   "metadata": {},
   "outputs": [],
   "source": [
    "del names[1:3]"
   ]
  },
  {
   "cell_type": "code",
   "execution_count": null,
   "id": "06a75178",
   "metadata": {},
   "outputs": [],
   "source": [
    "names"
   ]
  },
  {
   "cell_type": "code",
   "execution_count": null,
   "id": "44c9d5e3",
   "metadata": {},
   "outputs": [],
   "source": []
  },
  {
   "cell_type": "code",
   "execution_count": null,
   "id": "0bbb3c41",
   "metadata": {},
   "outputs": [],
   "source": [
    "city"
   ]
  },
  {
   "cell_type": "code",
   "execution_count": null,
   "id": "2d9ee44b",
   "metadata": {},
   "outputs": [],
   "source": [
    "del city[2:]"
   ]
  },
  {
   "cell_type": "code",
   "execution_count": null,
   "id": "9018c42b",
   "metadata": {},
   "outputs": [],
   "source": [
    "city"
   ]
  },
  {
   "cell_type": "code",
   "execution_count": null,
   "id": "9f522465",
   "metadata": {},
   "outputs": [],
   "source": []
  }
 ],
 "metadata": {
  "kernelspec": {
   "display_name": "Python 3 (ipykernel)",
   "language": "python",
   "name": "python3"
  },
  "language_info": {
   "codemirror_mode": {
    "name": "ipython",
    "version": 3
   },
   "file_extension": ".py",
   "mimetype": "text/x-python",
   "name": "python",
   "nbconvert_exporter": "python",
   "pygments_lexer": "ipython3",
   "version": "3.9.7"
  }
 },
 "nbformat": 4,
 "nbformat_minor": 5
}
