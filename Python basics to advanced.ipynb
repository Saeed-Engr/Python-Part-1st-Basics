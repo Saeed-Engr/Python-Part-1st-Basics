{
 "cells": [
  {
   "cell_type": "markdown",
   "id": "3055c991",
   "metadata": {},
   "source": [
    "# Print function using single quotes"
   ]
  },
  {
   "cell_type": "code",
   "execution_count": 3,
   "id": "b4c073a3",
   "metadata": {},
   "outputs": [
    {
     "name": "stdout",
     "output_type": "stream",
     "text": [
      "i am a scholar\n"
     ]
    }
   ],
   "source": [
    "print('i am a scholar')"
   ]
  },
  {
   "cell_type": "markdown",
   "id": "25a992d0",
   "metadata": {},
   "source": [
    "# Print function using double quotes"
   ]
  },
  {
   "cell_type": "code",
   "execution_count": 6,
   "id": "e454b096",
   "metadata": {},
   "outputs": [
    {
     "name": "stdout",
     "output_type": "stream",
     "text": [
      "i am scholar\n"
     ]
    }
   ],
   "source": [
    "print(\"i am scholar\")"
   ]
  },
  {
   "cell_type": "code",
   "execution_count": 7,
   "id": "d4db57d1",
   "metadata": {},
   "outputs": [
    {
     "name": "stdout",
     "output_type": "stream",
     "text": [
      "5\n"
     ]
    }
   ],
   "source": [
    "print(2+3)"
   ]
  },
  {
   "cell_type": "markdown",
   "id": "4ed32cdb",
   "metadata": {},
   "source": [
    "# Arithmetic operatios in print function"
   ]
  },
  {
   "cell_type": "code",
   "execution_count": 13,
   "id": "353b162e",
   "metadata": {},
   "outputs": [
    {
     "name": "stdout",
     "output_type": "stream",
     "text": [
      "25\n",
      "-15\n",
      "100\n",
      "0.25\n",
      "0\n",
      "5\n",
      "125\n"
     ]
    }
   ],
   "source": [
    "a=5\n",
    "b=20\n",
    "print(a+b)\n",
    "print(a-b)\n",
    "print(a*b)\n",
    "print(a/b)\n",
    "print(a//b)\n",
    "print(a%b)\n",
    "print(a**3)"
   ]
  },
  {
   "cell_type": "markdown",
   "id": "1a282118",
   "metadata": {},
   "source": [
    "# Escape Sequence in Print function "
   ]
  },
  {
   "cell_type": "code",
   "execution_count": 10,
   "id": "27ea29e1",
   "metadata": {},
   "outputs": [
    {
     "name": "stdout",
     "output_type": "stream",
     "text": [
      "this is \n",
      " new line escape sequence\n"
     ]
    }
   ],
   "source": [
    "print(\"this is \\n new line escape sequence\")"
   ]
  },
  {
   "cell_type": "code",
   "execution_count": 11,
   "id": "ade958c5",
   "metadata": {},
   "outputs": [
    {
     "name": "stdout",
     "output_type": "stream",
     "text": [
      "this iss\b backspace escape sequence\n"
     ]
    }
   ],
   "source": [
    "print(\"this iss\\b backspace escape sequence\")"
   ]
  },
  {
   "cell_type": "code",
   "execution_count": 12,
   "id": "c18c4826",
   "metadata": {},
   "outputs": [
    {
     "name": "stdout",
     "output_type": "stream",
     "text": [
      "Hello /\\ word\n"
     ]
    }
   ],
   "source": [
    "print(\"Hello /\\ word\")"
   ]
  },
  {
   "cell_type": "markdown",
   "id": "1d75e0d1",
   "metadata": {},
   "source": [
    "# Variable with their type"
   ]
  },
  {
   "cell_type": "code",
   "execution_count": 15,
   "id": "097872b5",
   "metadata": {},
   "outputs": [
    {
     "name": "stdout",
     "output_type": "stream",
     "text": [
      "M. SajidRashid\n",
      "M\n",
      "30\n",
      "5.7\n"
     ]
    }
   ],
   "source": [
    "fname='M. Sajid'\n",
    "lname=\"Rashid\"\n",
    "gender='M'\n",
    "age=30\n",
    "height=5.7\n",
    "print(fname+lname)\n",
    "print(gender)\n",
    "print(age)\n",
    "print(height)"
   ]
  },
  {
   "cell_type": "code",
   "execution_count": 16,
   "id": "5fa4a825",
   "metadata": {},
   "outputs": [
    {
     "data": {
      "text/plain": [
       "str"
      ]
     },
     "execution_count": 16,
     "metadata": {},
     "output_type": "execute_result"
    }
   ],
   "source": [
    "type(fname)"
   ]
  },
  {
   "cell_type": "code",
   "execution_count": 17,
   "id": "77bb9c17",
   "metadata": {},
   "outputs": [
    {
     "data": {
      "text/plain": [
       "str"
      ]
     },
     "execution_count": 17,
     "metadata": {},
     "output_type": "execute_result"
    }
   ],
   "source": [
    "type(lname)"
   ]
  },
  {
   "cell_type": "code",
   "execution_count": 18,
   "id": "2bb44420",
   "metadata": {},
   "outputs": [
    {
     "data": {
      "text/plain": [
       "str"
      ]
     },
     "execution_count": 18,
     "metadata": {},
     "output_type": "execute_result"
    }
   ],
   "source": [
    "type(gender)"
   ]
  },
  {
   "cell_type": "code",
   "execution_count": 19,
   "id": "aa0eff71",
   "metadata": {},
   "outputs": [
    {
     "data": {
      "text/plain": [
       "int"
      ]
     },
     "execution_count": 19,
     "metadata": {},
     "output_type": "execute_result"
    }
   ],
   "source": [
    "type(age)"
   ]
  },
  {
   "cell_type": "code",
   "execution_count": 20,
   "id": "69736908",
   "metadata": {},
   "outputs": [
    {
     "data": {
      "text/plain": [
       "float"
      ]
     },
     "execution_count": 20,
     "metadata": {},
     "output_type": "execute_result"
    }
   ],
   "source": [
    "type(height)"
   ]
  },
  {
   "cell_type": "markdown",
   "id": "37944490",
   "metadata": {},
   "source": [
    "# String Formating"
   ]
  },
  {
   "cell_type": "code",
   "execution_count": 24,
   "id": "4509fbd5",
   "metadata": {},
   "outputs": [
    {
     "name": "stdout",
     "output_type": "stream",
     "text": [
      "my name is M. Sajid Rashid\n"
     ]
    }
   ],
   "source": [
    "fname=\"M. Sajid\"\n",
    "lname=\"Rashid\"\n",
    "print(f\"my name is {fname} {lname}\")"
   ]
  },
  {
   "cell_type": "markdown",
   "id": "e76b08ad",
   "metadata": {},
   "source": [
    "# Comments"
   ]
  },
  {
   "cell_type": "code",
   "execution_count": 26,
   "id": "7e7cdd50",
   "metadata": {},
   "outputs": [
    {
     "name": "stdout",
     "output_type": "stream",
     "text": [
      "this is comment statement\n"
     ]
    }
   ],
   "source": [
    "print(\"this is comment statement\")\n",
    "#print(\"this is comment statement\")"
   ]
  },
  {
   "cell_type": "code",
   "execution_count": 34,
   "id": "98c40c73",
   "metadata": {},
   "outputs": [
    {
     "name": "stdout",
     "output_type": "stream",
     "text": [
      "this is multi line comments syntax\n"
     ]
    },
    {
     "data": {
      "text/plain": [
       "'print(\"hello\")\\nprint(\"word\")\\nprint(\"python\")\\nprint(\"Java\")'"
      ]
     },
     "execution_count": 34,
     "metadata": {},
     "output_type": "execute_result"
    }
   ],
   "source": [
    "print(\"this is multi line comments syntax\")\n",
    "'''print(\"hello\")\n",
    "print(\"word\")\n",
    "print(\"python\")\n",
    "print(\"Java\")'''"
   ]
  },
  {
   "cell_type": "markdown",
   "id": "bc9ad47d",
   "metadata": {},
   "source": [
    "# Errors in multi-Line comments"
   ]
  },
  {
   "cell_type": "code",
   "execution_count": null,
   "id": "ba4b762d",
   "metadata": {},
   "outputs": [],
   "source": []
  },
  {
   "cell_type": "markdown",
   "id": "fb3f2483",
   "metadata": {},
   "source": [
    "# if Syntax"
   ]
  },
  {
   "cell_type": "code",
   "execution_count": 37,
   "id": "8e1a7196",
   "metadata": {},
   "outputs": [
    {
     "name": "stdout",
     "output_type": "stream",
     "text": [
      "20 is Greater\n"
     ]
    }
   ],
   "source": [
    "a=10\n",
    "b=20\n",
    "if a>b:\n",
    "    print(f\"{a} is Greater\")\n",
    "if a<b:\n",
    "    print(f\"{b} is Greater\")"
   ]
  },
  {
   "cell_type": "markdown",
   "id": "51044044",
   "metadata": {},
   "source": [
    "# if-else syntax"
   ]
  },
  {
   "cell_type": "code",
   "execution_count": 39,
   "id": "21bf5b87",
   "metadata": {},
   "outputs": [
    {
     "name": "stdout",
     "output_type": "stream",
     "text": [
      "20 is Greater\n"
     ]
    }
   ],
   "source": [
    "a=10\n",
    "b=20\n",
    "if a>b:\n",
    "    print(f\"{a} is Greater\")\n",
    "else:\n",
    "    print(f\"{b} is Greater\")"
   ]
  },
  {
   "cell_type": "markdown",
   "id": "0b645793",
   "metadata": {},
   "source": [
    "# Nested if-else-if (if-elif) with Logical Operators"
   ]
  },
  {
   "cell_type": "code",
   "execution_count": 42,
   "id": "1fe6a0eb",
   "metadata": {},
   "outputs": [
    {
     "name": "stdout",
     "output_type": "stream",
     "text": [
      "30 is greater\n"
     ]
    }
   ],
   "source": [
    "a=10\n",
    "b=30\n",
    "c=20\n",
    "if a>b and a>c:\n",
    "    print(f\"{a} is greater\")\n",
    "elif b>a and b>c:\n",
    "    print(f\"{b} is greater\")\n",
    "elif c>a and c>b:\n",
    "    print(f\"{c} is greater\")\n",
    "else:\n",
    "    print(\"All are equal\")"
   ]
  },
  {
   "cell_type": "markdown",
   "id": "0b22fc09",
   "metadata": {},
   "source": [
    "# While Loop"
   ]
  },
  {
   "cell_type": "code",
   "execution_count": 44,
   "id": "d3dc9710",
   "metadata": {},
   "outputs": [
    {
     "name": "stdout",
     "output_type": "stream",
     "text": [
      "1\n",
      "2\n",
      "3\n",
      "4\n",
      "5\n",
      "6\n",
      "7\n",
      "8\n",
      "9\n"
     ]
    }
   ],
   "source": [
    "i=1\n",
    "while i<10:\n",
    "    print(i)\n",
    "    i=i+1"
   ]
  },
  {
   "cell_type": "markdown",
   "id": "7431151b",
   "metadata": {},
   "source": [
    "# Table of 2 using while loop"
   ]
  },
  {
   "cell_type": "code",
   "execution_count": 47,
   "id": "02f0b221",
   "metadata": {},
   "outputs": [
    {
     "name": "stdout",
     "output_type": "stream",
     "text": [
      "2*1=2\n",
      "2*2=4\n",
      "2*3=6\n",
      "2*4=8\n",
      "2*5=10\n",
      "2*6=12\n",
      "2*7=14\n",
      "2*8=16\n",
      "2*9=18\n",
      "2*10=20\n"
     ]
    }
   ],
   "source": [
    "num=2\n",
    "i=1\n",
    "while i<=10:\n",
    "        print(f\"{num}*{i}={num*i}\")\n",
    "        i=i+1"
   ]
  },
  {
   "cell_type": "markdown",
   "id": "60ee0dce",
   "metadata": {},
   "source": [
    "# For Loop"
   ]
  },
  {
   "cell_type": "code",
   "execution_count": 48,
   "id": "4c58221a",
   "metadata": {},
   "outputs": [
    {
     "name": "stdout",
     "output_type": "stream",
     "text": [
      "I love Pakistan\n",
      "I love Pakistan\n",
      "I love Pakistan\n",
      "I love Pakistan\n",
      "I love Pakistan\n",
      "I love Pakistan\n",
      "I love Pakistan\n",
      "I love Pakistan\n",
      "I love Pakistan\n",
      "I love Pakistan\n"
     ]
    }
   ],
   "source": [
    "for i in range(10):\n",
    "    print(\"I love Pakistan\")"
   ]
  },
  {
   "cell_type": "code",
   "execution_count": 50,
   "id": "5770eb61",
   "metadata": {},
   "outputs": [
    {
     "name": "stdout",
     "output_type": "stream",
     "text": [
      "I Love Pakistan\n",
      "I Love Pakistan\n",
      "I Love Pakistan\n",
      "I Love Pakistan\n"
     ]
    }
   ],
   "source": [
    "for i in range(1,5,1):\n",
    "    print(\"I Love Pakistan\")"
   ]
  },
  {
   "cell_type": "markdown",
   "id": "e638b63c",
   "metadata": {},
   "source": [
    "# List Practice"
   ]
  },
  {
   "cell_type": "code",
   "execution_count": 51,
   "id": "c78371bb",
   "metadata": {},
   "outputs": [
    {
     "name": "stdout",
     "output_type": "stream",
     "text": [
      "['apple', 'mango', 'leeche', 'grapes', 'coconut']\n"
     ]
    }
   ],
   "source": [
    "fruits=[\"apple\",'mango',\"leeche\",'grapes','coconut']\n",
    "print(fruits)"
   ]
  },
  {
   "cell_type": "code",
   "execution_count": 52,
   "id": "a1c4bc5f",
   "metadata": {},
   "outputs": [
    {
     "name": "stdout",
     "output_type": "stream",
     "text": [
      "apple\n"
     ]
    }
   ],
   "source": [
    "print(fruits[0])"
   ]
  },
  {
   "cell_type": "code",
   "execution_count": 53,
   "id": "47c41bc8",
   "metadata": {},
   "outputs": [
    {
     "name": "stdout",
     "output_type": "stream",
     "text": [
      "apple\n",
      "mango\n",
      "leeche\n",
      "grapes\n",
      "coconut\n"
     ]
    }
   ],
   "source": [
    "for i in fruits:\n",
    "    print(i)"
   ]
  },
  {
   "cell_type": "code",
   "execution_count": 56,
   "id": "14fae81c",
   "metadata": {},
   "outputs": [
    {
     "name": "stdout",
     "output_type": "stream",
     "text": [
      "coconut\n"
     ]
    }
   ],
   "source": [
    "print(fruits[-1])"
   ]
  },
  {
   "cell_type": "code",
   "execution_count": 61,
   "id": "bf0e8f48",
   "metadata": {},
   "outputs": [
    {
     "name": "stdout",
     "output_type": "stream",
     "text": [
      "coconut\n",
      "grapes\n",
      "leeche\n",
      "mango\n",
      "apple\n"
     ]
    },
    {
     "ename": "IndexError",
     "evalue": "list index out of range",
     "output_type": "error",
     "traceback": [
      "\u001b[1;31m---------------------------------------------------------------------------\u001b[0m",
      "\u001b[1;31mIndexError\u001b[0m                                Traceback (most recent call last)",
      "Input \u001b[1;32mIn [61]\u001b[0m, in \u001b[0;36m<cell line: 2>\u001b[1;34m()\u001b[0m\n\u001b[0;32m      1\u001b[0m i \u001b[38;5;241m=\u001b[39m\u001b[38;5;241m-\u001b[39m\u001b[38;5;241m1\u001b[39m\n\u001b[0;32m      2\u001b[0m \u001b[38;5;28;01mwhile\u001b[39;00m i\u001b[38;5;241m<\u001b[39m\u001b[38;5;241m0\u001b[39m:\n\u001b[1;32m----> 3\u001b[0m     \u001b[38;5;28mprint\u001b[39m(\u001b[43mfruits\u001b[49m\u001b[43m[\u001b[49m\u001b[43mi\u001b[49m\u001b[43m]\u001b[49m)\n\u001b[0;32m      4\u001b[0m     i\u001b[38;5;241m=\u001b[39mi\u001b[38;5;241m-\u001b[39m\u001b[38;5;241m1\u001b[39m\n",
      "\u001b[1;31mIndexError\u001b[0m: list index out of range"
     ]
    }
   ],
   "source": [
    "i =-1\n",
    "while i<0:\n",
    "    print(fruits[i])\n",
    "    i=i-1"
   ]
  },
  {
   "cell_type": "code",
   "execution_count": 62,
   "id": "2782f169",
   "metadata": {},
   "outputs": [
    {
     "name": "stdout",
     "output_type": "stream",
     "text": [
      "['mango', 'leeche']\n"
     ]
    }
   ],
   "source": [
    "print(fruits[1:3])"
   ]
  },
  {
   "cell_type": "markdown",
   "id": "d272efab",
   "metadata": {},
   "source": [
    "# Methods in List"
   ]
  },
  {
   "cell_type": "code",
   "execution_count": null,
   "id": "0a76c45e",
   "metadata": {},
   "outputs": [],
   "source": []
  },
  {
   "cell_type": "markdown",
   "id": "7aa2cc10",
   "metadata": {},
   "source": [
    "# Append method"
   ]
  },
  {
   "cell_type": "code",
   "execution_count": 65,
   "id": "2d914353",
   "metadata": {},
   "outputs": [
    {
     "name": "stdout",
     "output_type": "stream",
     "text": [
      "['apple', 'mango', 'leeche', 'grapes', 'coconut', 'Pine-apple']\n",
      "['apple', 'mango', 'leeche', 'grapes', 'coconut', 'Pine-apple', 'Pine-apple']\n"
     ]
    }
   ],
   "source": [
    "print(fruits)\n",
    "fruits.append(\"Pine-apple\")\n",
    "print(fruits)"
   ]
  },
  {
   "cell_type": "markdown",
   "id": "43138c36",
   "metadata": {},
   "source": [
    "# Insert Method"
   ]
  },
  {
   "cell_type": "code",
   "execution_count": 66,
   "id": "6dc7ed27",
   "metadata": {},
   "outputs": [
    {
     "name": "stdout",
     "output_type": "stream",
     "text": [
      "['apple', 'mango', 'leeche', 'grapes', 'coconut', 'Pine-apple', 'Pine-apple']\n",
      "['apple', 'mango', 'leeche', 'Strawberry', 'grapes', 'coconut', 'Pine-apple', 'Pine-apple']\n"
     ]
    }
   ],
   "source": [
    "print(fruits)\n",
    "fruits.insert(3,\"Strawberry\")\n",
    "print(fruits)"
   ]
  },
  {
   "cell_type": "markdown",
   "id": "a0c48748",
   "metadata": {},
   "source": [
    "# List Concatenation"
   ]
  },
  {
   "cell_type": "code",
   "execution_count": 82,
   "id": "cd68a9aa",
   "metadata": {},
   "outputs": [
    {
     "name": "stdout",
     "output_type": "stream",
     "text": [
      "['apple', 'mango', 'leeche', 'Strawberry', 'grapes', 'coconut', 'Pine-apple', 'Pine-apple']\n",
      "['Potato', 'Chilli', 'Tomato']\n",
      "['apple', 'mango', 'leeche', 'Strawberry', 'grapes', 'coconut', 'Pine-apple', 'Pine-apple', 'Potato', 'Chilli', 'Tomato']\n"
     ]
    }
   ],
   "source": [
    "vegetables=[\"Potato\",'Chilli',\"Tomato\"]\n",
    "print(fruits)\n",
    "print(vegetables)\n",
    "#print(fruits+vegetables)\n",
    "mixlist = fruits+vegetables\n",
    "print(mixlist)"
   ]
  },
  {
   "cell_type": "markdown",
   "id": "f52cdb5e",
   "metadata": {},
   "source": [
    "# Extend Method in List"
   ]
  },
  {
   "cell_type": "code",
   "execution_count": 83,
   "id": "6f44f012",
   "metadata": {},
   "outputs": [
    {
     "name": "stdout",
     "output_type": "stream",
     "text": [
      "['Potato', 'Chilli', 'Tomato']\n",
      "['apple', 'mango', 'leeche', 'Strawberry', 'grapes', 'coconut', 'Pine-apple', 'Pine-apple']\n",
      "['Potato', 'Chilli', 'Tomato', 'apple', 'mango', 'leeche', 'Strawberry', 'grapes', 'coconut', 'Pine-apple', 'Pine-apple']\n"
     ]
    }
   ],
   "source": [
    "print(vegetables)\n",
    "print(fruits)\n",
    "vegetables.extend(fruits)\n",
    "print(vegetables)"
   ]
  },
  {
   "cell_type": "markdown",
   "id": "dffda7da",
   "metadata": {},
   "source": [
    "# POP Method in List"
   ]
  },
  {
   "cell_type": "code",
   "execution_count": 88,
   "id": "49a2c1a4",
   "metadata": {},
   "outputs": [
    {
     "name": "stdout",
     "output_type": "stream",
     "text": [
      "Pine-apple\n"
     ]
    }
   ],
   "source": [
    "print(vegetables.pop())"
   ]
  },
  {
   "cell_type": "code",
   "execution_count": 89,
   "id": "482fb3b8",
   "metadata": {},
   "outputs": [
    {
     "name": "stdout",
     "output_type": "stream",
     "text": [
      "apple\n"
     ]
    }
   ],
   "source": [
    "print(vegetables.pop(2))"
   ]
  },
  {
   "cell_type": "code",
   "execution_count": 90,
   "id": "e5525a88",
   "metadata": {},
   "outputs": [
    {
     "name": "stdout",
     "output_type": "stream",
     "text": [
      "['Potato', 'Chilli', 'mango', 'leeche', 'Strawberry', 'grapes', 'coconut']\n"
     ]
    }
   ],
   "source": [
    "print(vegetables)"
   ]
  },
  {
   "cell_type": "markdown",
   "id": "cb357c99",
   "metadata": {},
   "source": [
    "# Delete Operator"
   ]
  },
  {
   "cell_type": "code",
   "execution_count": 93,
   "id": "eb42c011",
   "metadata": {},
   "outputs": [],
   "source": [
    "del vegetables[2]"
   ]
  },
  {
   "cell_type": "code",
   "execution_count": 94,
   "id": "e2210ffe",
   "metadata": {},
   "outputs": [
    {
     "name": "stdout",
     "output_type": "stream",
     "text": [
      "['Chilli', 'mango', 'Strawberry', 'grapes', 'coconut']\n"
     ]
    }
   ],
   "source": [
    "print(vegetables)"
   ]
  },
  {
   "cell_type": "markdown",
   "id": "8127382b",
   "metadata": {},
   "source": [
    "# Remove Function"
   ]
  },
  {
   "cell_type": "code",
   "execution_count": 95,
   "id": "f1faaf93",
   "metadata": {},
   "outputs": [],
   "source": [
    "fruits.remove('grapes')"
   ]
  },
  {
   "cell_type": "code",
   "execution_count": 96,
   "id": "20ec0ef0",
   "metadata": {},
   "outputs": [
    {
     "name": "stdout",
     "output_type": "stream",
     "text": [
      "['apple', 'mango', 'leeche', 'Strawberry', 'coconut', 'Pine-apple', 'Pine-apple']\n"
     ]
    }
   ],
   "source": [
    "print(fruits)"
   ]
  },
  {
   "cell_type": "markdown",
   "id": "22c85a4a",
   "metadata": {},
   "source": [
    "# in keyword in List"
   ]
  },
  {
   "cell_type": "code",
   "execution_count": 106,
   "id": "803b2392",
   "metadata": {},
   "outputs": [
    {
     "name": "stdout",
     "output_type": "stream",
     "text": [
      "Not Present\n",
      "Present\n",
      "Not Present\n",
      "Not Present\n",
      "Not Present\n",
      "Not Present\n",
      "Not Present\n"
     ]
    }
   ],
   "source": [
    "for i in fruits:\n",
    "    if 'mango' in i:\n",
    "        print(\"Present\")\n",
    "    else:\n",
    "        print(\"Not Present\")"
   ]
  },
  {
   "cell_type": "markdown",
   "id": "9b1d7aa9",
   "metadata": {},
   "source": [
    "# Count Method in List"
   ]
  },
  {
   "cell_type": "code",
   "execution_count": 107,
   "id": "e8e0e490",
   "metadata": {},
   "outputs": [
    {
     "name": "stdout",
     "output_type": "stream",
     "text": [
      "1\n"
     ]
    }
   ],
   "source": [
    "print(fruits.count(\"apple\"))"
   ]
  },
  {
   "cell_type": "code",
   "execution_count": 111,
   "id": "a370b442",
   "metadata": {},
   "outputs": [
    {
     "name": "stdout",
     "output_type": "stream",
     "text": [
      "['Pine-apple', 'Pine-apple', 'Strawberry', 'apple', 'coconut', 'leeche', 'mango']\n",
      "['Pine-apple', 'Pine-apple', 'Strawberry', 'apple', 'coconut', 'leeche', 'mango']\n"
     ]
    }
   ],
   "source": [
    "print(fruits)\n",
    "fruits.sort()\n",
    "print(fruits)"
   ]
  },
  {
   "cell_type": "markdown",
   "id": "d6f355c7",
   "metadata": {},
   "source": [
    "# Clear method"
   ]
  },
  {
   "cell_type": "code",
   "execution_count": 115,
   "id": "4625eb21",
   "metadata": {},
   "outputs": [
    {
     "name": "stdout",
     "output_type": "stream",
     "text": [
      "[]\n",
      "[]\n"
     ]
    }
   ],
   "source": [
    "print(mixlist)\n",
    "mixlist.clear()\n",
    "print(mixlist)"
   ]
  },
  {
   "cell_type": "markdown",
   "id": "58534a72",
   "metadata": {},
   "source": [
    "# Copy method"
   ]
  },
  {
   "cell_type": "markdown",
   "id": "a87e9270",
   "metadata": {},
   "source": [
    "# fruits2=fruits.copy()\n",
    "print(fruits2)"
   ]
  },
  {
   "cell_type": "markdown",
   "id": "bd8175fe",
   "metadata": {},
   "source": [
    "# Reverse Method"
   ]
  },
  {
   "cell_type": "code",
   "execution_count": 117,
   "id": "b6f621bf",
   "metadata": {},
   "outputs": [
    {
     "name": "stdout",
     "output_type": "stream",
     "text": [
      "['Pine-apple', 'Pine-apple', 'Strawberry', 'apple', 'coconut', 'leeche', 'mango']\n",
      "['mango', 'leeche', 'coconut', 'apple', 'Strawberry', 'Pine-apple', 'Pine-apple']\n"
     ]
    }
   ],
   "source": [
    "print(fruits2)\n",
    "fruits2.reverse()\n",
    "print(fruits2)"
   ]
  },
  {
   "cell_type": "markdown",
   "id": "3eb51deb",
   "metadata": {},
   "source": [
    "# Dictionary"
   ]
  },
  {
   "cell_type": "code",
   "execution_count": 2,
   "id": "51672479",
   "metadata": {},
   "outputs": [],
   "source": [
    "rec = {'name':'M. Sajid rashid', 'Age':30, 'Gender':'M'}"
   ]
  },
  {
   "cell_type": "code",
   "execution_count": 3,
   "id": "77d4411d",
   "metadata": {},
   "outputs": [
    {
     "name": "stdout",
     "output_type": "stream",
     "text": [
      "{'name': 'M. Sajid rashid', 'Age': 30, 'Gender': 'M'}\n"
     ]
    }
   ],
   "source": [
    "print(rec)"
   ]
  },
  {
   "cell_type": "code",
   "execution_count": 4,
   "id": "e6af34f2",
   "metadata": {},
   "outputs": [
    {
     "data": {
      "text/plain": [
       "{'name': 'M. Sajid rashid', 'Age': 30, 'Gender': 'M'}"
      ]
     },
     "execution_count": 4,
     "metadata": {},
     "output_type": "execute_result"
    }
   ],
   "source": [
    "rec"
   ]
  },
  {
   "cell_type": "markdown",
   "id": "1d26acd6",
   "metadata": {},
   "source": [
    "# How to print Keys in Dictionaries"
   ]
  },
  {
   "cell_type": "code",
   "execution_count": 13,
   "id": "4e24d4e5",
   "metadata": {},
   "outputs": [
    {
     "name": "stdout",
     "output_type": "stream",
     "text": [
      "name\n",
      "Age\n",
      "Gender\n"
     ]
    }
   ],
   "source": [
    "for key in rec:\n",
    "    print(key)"
   ]
  },
  {
   "cell_type": "markdown",
   "id": "097823ca",
   "metadata": {},
   "source": [
    "# # How to print Values in Dictionaries"
   ]
  },
  {
   "cell_type": "code",
   "execution_count": 18,
   "id": "030c563b",
   "metadata": {},
   "outputs": [
    {
     "name": "stdout",
     "output_type": "stream",
     "text": [
      "M. Sajid rashid\n",
      "30\n",
      "M\n"
     ]
    }
   ],
   "source": [
    "for value in rec.values():\n",
    "    print(value)"
   ]
  },
  {
   "cell_type": "markdown",
   "id": "9347b6c5",
   "metadata": {},
   "source": [
    "# # How to print Keys and Values Together in Dictionaries"
   ]
  },
  {
   "cell_type": "code",
   "execution_count": 19,
   "id": "65ba5851",
   "metadata": {},
   "outputs": [
    {
     "name": "stdout",
     "output_type": "stream",
     "text": [
      "key is name and value is M. Sajid rashid\n",
      "key is Age and value is 30\n",
      "key is Gender and value is M\n"
     ]
    }
   ],
   "source": [
    "for key, value in rec.items():\n",
    "    print(f\"key is {key} and value is {value}\")"
   ]
  },
  {
   "cell_type": "markdown",
   "id": "00786743",
   "metadata": {},
   "source": [
    "# How to Add data in Dictionaries"
   ]
  },
  {
   "cell_type": "code",
   "execution_count": 20,
   "id": "2061b1ec",
   "metadata": {},
   "outputs": [
    {
     "data": {
      "text/plain": [
       "{'name': 'M. Sajid rashid',\n",
       " 'Age': 30,\n",
       " 'Gender': 'M',\n",
       " 'job': 'Yes',\n",
       " 'Qualification': 'Ph.D Scholar'}"
      ]
     },
     "execution_count": 20,
     "metadata": {},
     "output_type": "execute_result"
    }
   ],
   "source": [
    "rec['job']='Yes'\n",
    "rec[\"Qualification\"]='Ph.D Scholar'\n",
    "rec"
   ]
  },
  {
   "cell_type": "markdown",
   "id": "d3595ca9",
   "metadata": {},
   "source": [
    "# How to check Keys in Dictionaries"
   ]
  },
  {
   "cell_type": "code",
   "execution_count": 23,
   "id": "21df228a",
   "metadata": {},
   "outputs": [
    {
     "name": "stdout",
     "output_type": "stream",
     "text": [
      "yes\n"
     ]
    }
   ],
   "source": [
    "if 'name' in rec:\n",
    "    print('yes')"
   ]
  },
  {
   "cell_type": "code",
   "execution_count": 24,
   "id": "c501f125",
   "metadata": {},
   "outputs": [
    {
     "name": "stdout",
     "output_type": "stream",
     "text": [
      "no\n"
     ]
    }
   ],
   "source": [
    "if 'nam' in rec:\n",
    "    print('yes')\n",
    "else:\n",
    "    print('no')"
   ]
  },
  {
   "cell_type": "markdown",
   "id": "bce97ca3",
   "metadata": {},
   "source": [
    "# How to check Keys in Dictionaries"
   ]
  },
  {
   "cell_type": "code",
   "execution_count": 26,
   "id": "08c4c19a",
   "metadata": {},
   "outputs": [
    {
     "name": "stdout",
     "output_type": "stream",
     "text": [
      "no\n"
     ]
    }
   ],
   "source": [
    "if 'Sajid' in rec.values():\n",
    "    print('yes')\n",
    "else:\n",
    "    print('no')"
   ]
  },
  {
   "cell_type": "code",
   "execution_count": 28,
   "id": "cc437e8c",
   "metadata": {},
   "outputs": [
    {
     "name": "stdout",
     "output_type": "stream",
     "text": [
      "yes\n"
     ]
    }
   ],
   "source": [
    "if 'M. Sajid rashid' in rec.values():\n",
    "    print('yes')\n",
    "else:\n",
    "    print('no')"
   ]
  },
  {
   "cell_type": "markdown",
   "id": "502dc028",
   "metadata": {},
   "source": [
    "# get method in Dictionaries"
   ]
  },
  {
   "cell_type": "code",
   "execution_count": 36,
   "id": "fbcfe715",
   "metadata": {},
   "outputs": [
    {
     "data": {
      "text/plain": [
       "30"
      ]
     },
     "execution_count": 36,
     "metadata": {},
     "output_type": "execute_result"
    }
   ],
   "source": [
    "rec.get('Age')"
   ]
  },
  {
   "cell_type": "markdown",
   "id": "430c62db",
   "metadata": {},
   "source": [
    "# Pop method in Dictionaries"
   ]
  },
  {
   "cell_type": "code",
   "execution_count": 38,
   "id": "43d7d7de",
   "metadata": {},
   "outputs": [
    {
     "data": {
      "text/plain": [
       "30"
      ]
     },
     "execution_count": 38,
     "metadata": {},
     "output_type": "execute_result"
    }
   ],
   "source": [
    "rec.pop('Age')"
   ]
  },
  {
   "cell_type": "code",
   "execution_count": 39,
   "id": "ecc16fb3",
   "metadata": {},
   "outputs": [
    {
     "data": {
      "text/plain": [
       "{'name': 'M. Sajid rashid',\n",
       " 'Gender': 'M',\n",
       " 'job': 'Yes',\n",
       " 'Qualification': 'Ph.D Scholar'}"
      ]
     },
     "execution_count": 39,
     "metadata": {},
     "output_type": "execute_result"
    }
   ],
   "source": [
    "rec"
   ]
  },
  {
   "cell_type": "code",
   "execution_count": null,
   "id": "8be70180",
   "metadata": {},
   "outputs": [],
   "source": []
  }
 ],
 "metadata": {
  "kernelspec": {
   "display_name": "Python 3 (ipykernel)",
   "language": "python",
   "name": "python3"
  },
  "language_info": {
   "codemirror_mode": {
    "name": "ipython",
    "version": 3
   },
   "file_extension": ".py",
   "mimetype": "text/x-python",
   "name": "python",
   "nbconvert_exporter": "python",
   "pygments_lexer": "ipython3",
   "version": "3.9.12"
  }
 },
 "nbformat": 4,
 "nbformat_minor": 5
}
