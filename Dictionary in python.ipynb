{
 "cells": [
  {
   "cell_type": "markdown",
   "id": "4acca49a",
   "metadata": {},
   "source": [
    "creating dictionary"
   ]
  },
  {
   "cell_type": "markdown",
   "id": "14a8028a",
   "metadata": {},
   "source": [
    "a dictionary is a series of paired keys and values.\n",
    "\n",
    "key:value   Pair"
   ]
  },
  {
   "cell_type": "code",
   "execution_count": 3,
   "id": "9571083a",
   "metadata": {},
   "outputs": [],
   "source": [
    " #   \"name\" : \"Saeed\", "
   ]
  },
  {
   "cell_type": "code",
   "execution_count": 4,
   "id": "ab7cd87b",
   "metadata": {},
   "outputs": [],
   "source": [
    "saeed={\"name\":\"saeed\",\"age\":20,\"addres\":\"lodhran\",\"email\":\"abc@gmail.com\"}\n"
   ]
  },
  {
   "cell_type": "code",
   "execution_count": 5,
   "id": "9cccb2b4",
   "metadata": {},
   "outputs": [
    {
     "data": {
      "text/plain": [
       "{'name': 'saeed', 'age': 20, 'addres': 'lodhran', 'email': 'abc@gmail.com'}"
      ]
     },
     "execution_count": 5,
     "metadata": {},
     "output_type": "execute_result"
    }
   ],
   "source": [
    "saeed"
   ]
  },
  {
   "cell_type": "code",
   "execution_count": 6,
   "id": "dc7ddb92",
   "metadata": {},
   "outputs": [
    {
     "data": {
      "text/plain": [
       "'abc@gmail.com'"
      ]
     },
     "execution_count": 6,
     "metadata": {},
     "output_type": "execute_result"
    }
   ],
   "source": [
    "saeed[\"email\"]\n"
   ]
  },
  {
   "cell_type": "code",
   "execution_count": 7,
   "id": "9a7de995",
   "metadata": {},
   "outputs": [
    {
     "data": {
      "text/plain": [
       "20"
      ]
     },
     "execution_count": 7,
     "metadata": {},
     "output_type": "execute_result"
    }
   ],
   "source": [
    "saeed[\"age\"]"
   ]
  },
  {
   "cell_type": "code",
   "execution_count": null,
   "id": "1d5878bf",
   "metadata": {},
   "outputs": [],
   "source": []
  },
  {
   "cell_type": "code",
   "execution_count": null,
   "id": "3f7323db",
   "metadata": {},
   "outputs": [],
   "source": []
  },
  {
   "cell_type": "markdown",
   "id": "3f898579",
   "metadata": {},
   "source": [
    "# Adding value in Dictionary"
   ]
  },
  {
   "cell_type": "code",
   "execution_count": 8,
   "id": "ece0307f",
   "metadata": {},
   "outputs": [
    {
     "data": {
      "text/plain": [
       "{'name': 'saeed', 'age': 20, 'addres': 'lodhran', 'email': 'abc@gmail.com'}"
      ]
     },
     "execution_count": 8,
     "metadata": {},
     "output_type": "execute_result"
    }
   ],
   "source": [
    "saeed"
   ]
  },
  {
   "cell_type": "code",
   "execution_count": 9,
   "id": "d97def22",
   "metadata": {},
   "outputs": [
    {
     "name": "stdout",
     "output_type": "stream",
     "text": [
      "{'name': 'saeed', 'age': 20, 'addres': 'lodhran', 'email': 'abc@gmail.com', 'class': 'mcs'}\n"
     ]
    }
   ],
   "source": [
    "saeed[\"class\"] =\"mcs\"\n",
    "\n",
    "print(saeed)"
   ]
  },
  {
   "cell_type": "code",
   "execution_count": 10,
   "id": "72d96dc6",
   "metadata": {},
   "outputs": [
    {
     "data": {
      "text/plain": [
       "{'name': 'saeed',\n",
       " 'age': 20,\n",
       " 'addres': 'lodhran',\n",
       " 'email': 'abc@gmail.com',\n",
       " 'class': 'mcs',\n",
       " 'ai': 'faisalabad'}"
      ]
     },
     "execution_count": 10,
     "metadata": {},
     "output_type": "execute_result"
    }
   ],
   "source": [
    "saeed[\"ai\"]=\"faisalabad\"\n",
    "\n",
    "saeed"
   ]
  },
  {
   "cell_type": "code",
   "execution_count": null,
   "id": "bfa1f985",
   "metadata": {},
   "outputs": [],
   "source": []
  },
  {
   "cell_type": "code",
   "execution_count": null,
   "id": "578aace0",
   "metadata": {},
   "outputs": [],
   "source": []
  },
  {
   "cell_type": "markdown",
   "id": "6d739bc0",
   "metadata": {},
   "source": [
    "# Update a key value in dictionary"
   ]
  },
  {
   "cell_type": "code",
   "execution_count": 11,
   "id": "1387df96",
   "metadata": {},
   "outputs": [
    {
     "data": {
      "text/plain": [
       "{'name': 'saeed',\n",
       " 'age': 20,\n",
       " 'addres': 'lodhran',\n",
       " 'email': 'abc@gmail.com',\n",
       " 'class': 'mcs',\n",
       " 'ai': 'faisalabad'}"
      ]
     },
     "execution_count": 11,
     "metadata": {},
     "output_type": "execute_result"
    }
   ],
   "source": [
    "saeed"
   ]
  },
  {
   "cell_type": "code",
   "execution_count": 12,
   "id": "83b4e739",
   "metadata": {},
   "outputs": [],
   "source": [
    "saeed[\"class\"]=\"mastre in computer science\"\n"
   ]
  },
  {
   "cell_type": "code",
   "execution_count": 13,
   "id": "36e17997",
   "metadata": {},
   "outputs": [
    {
     "data": {
      "text/plain": [
       "{'name': 'saeed',\n",
       " 'age': 20,\n",
       " 'addres': 'lodhran',\n",
       " 'email': 'abc@gmail.com',\n",
       " 'class': 'mastre in computer science',\n",
       " 'ai': 'faisalabad'}"
      ]
     },
     "execution_count": 13,
     "metadata": {},
     "output_type": "execute_result"
    }
   ],
   "source": [
    "saeed"
   ]
  },
  {
   "cell_type": "code",
   "execution_count": null,
   "id": "c0c5f177",
   "metadata": {},
   "outputs": [],
   "source": []
  },
  {
   "cell_type": "code",
   "execution_count": null,
   "id": "df1d167e",
   "metadata": {},
   "outputs": [],
   "source": []
  },
  {
   "cell_type": "markdown",
   "id": "2e63edeb",
   "metadata": {},
   "source": [
    "# ACCESS VALUE IN DICTIONARY\n"
   ]
  },
  {
   "cell_type": "code",
   "execution_count": 14,
   "id": "fe5ff8f1",
   "metadata": {},
   "outputs": [
    {
     "data": {
      "text/plain": [
       "{'name': 'saeed',\n",
       " 'age': 20,\n",
       " 'addres': 'lodhran',\n",
       " 'email': 'abc@gmail.com',\n",
       " 'class': 'mastre in computer science',\n",
       " 'ai': 'faisalabad'}"
      ]
     },
     "execution_count": 14,
     "metadata": {},
     "output_type": "execute_result"
    }
   ],
   "source": [
    "saeed"
   ]
  },
  {
   "cell_type": "code",
   "execution_count": 15,
   "id": "93b6b18f",
   "metadata": {},
   "outputs": [
    {
     "data": {
      "text/plain": [
       "'mastre in computer science'"
      ]
     },
     "execution_count": 15,
     "metadata": {},
     "output_type": "execute_result"
    }
   ],
   "source": [
    "saeed[\"class\"]\n"
   ]
  },
  {
   "cell_type": "code",
   "execution_count": null,
   "id": "1e05f679",
   "metadata": {},
   "outputs": [],
   "source": []
  },
  {
   "cell_type": "code",
   "execution_count": null,
   "id": "42f56202",
   "metadata": {},
   "outputs": [],
   "source": []
  },
  {
   "cell_type": "markdown",
   "id": "7acfd072",
   "metadata": {},
   "source": [
    "# DELETING A VALUE"
   ]
  },
  {
   "cell_type": "code",
   "execution_count": 16,
   "id": "418143f6",
   "metadata": {},
   "outputs": [
    {
     "data": {
      "text/plain": [
       "{'name': 'saeed',\n",
       " 'age': 20,\n",
       " 'addres': 'lodhran',\n",
       " 'email': 'abc@gmail.com',\n",
       " 'class': 'mastre in computer science',\n",
       " 'ai': 'faisalabad'}"
      ]
     },
     "execution_count": 16,
     "metadata": {},
     "output_type": "execute_result"
    }
   ],
   "source": [
    "saeed"
   ]
  },
  {
   "cell_type": "code",
   "execution_count": null,
   "id": "f124980e",
   "metadata": {},
   "outputs": [],
   "source": [
    "del saeed[\"email\"]\n"
   ]
  },
  {
   "cell_type": "code",
   "execution_count": null,
   "id": "ec3c2346",
   "metadata": {},
   "outputs": [],
   "source": []
  },
  {
   "cell_type": "markdown",
   "id": "2da8cac3",
   "metadata": {},
   "source": [
    "# key are in dictionary or not"
   ]
  },
  {
   "cell_type": "code",
   "execution_count": 17,
   "id": "38bd7eee",
   "metadata": {},
   "outputs": [
    {
     "data": {
      "text/plain": [
       "{'name': 'saeed',\n",
       " 'age': 20,\n",
       " 'addres': 'lodhran',\n",
       " 'email': 'abc@gmail.com',\n",
       " 'class': 'mastre in computer science',\n",
       " 'ai': 'faisalabad'}"
      ]
     },
     "execution_count": 17,
     "metadata": {},
     "output_type": "execute_result"
    }
   ],
   "source": [
    "saeed"
   ]
  },
  {
   "cell_type": "code",
   "execution_count": 18,
   "id": "542e5b03",
   "metadata": {},
   "outputs": [
    {
     "data": {
      "text/plain": [
       "True"
      ]
     },
     "execution_count": 18,
     "metadata": {},
     "output_type": "execute_result"
    }
   ],
   "source": [
    "\"ai\" in saeed\n"
   ]
  },
  {
   "cell_type": "code",
   "execution_count": 19,
   "id": "d5e6a6fb",
   "metadata": {},
   "outputs": [],
   "source": [
    "# NOTE:\n",
    "  #   in dictionary the key and value should be integer,float,& string."
   ]
  },
  {
   "cell_type": "code",
   "execution_count": null,
   "id": "9e051606",
   "metadata": {},
   "outputs": [],
   "source": []
  }
 ],
 "metadata": {
  "kernelspec": {
   "display_name": "Python 3 (ipykernel)",
   "language": "python",
   "name": "python3"
  },
  "language_info": {
   "codemirror_mode": {
    "name": "ipython",
    "version": 3
   },
   "file_extension": ".py",
   "mimetype": "text/x-python",
   "name": "python",
   "nbconvert_exporter": "python",
   "pygments_lexer": "ipython3",
   "version": "3.9.7"
  }
 },
 "nbformat": 4,
 "nbformat_minor": 5
}
