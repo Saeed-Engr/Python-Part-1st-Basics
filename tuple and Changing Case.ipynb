{
 "cells": [
  {
   "cell_type": "markdown",
   "id": "d23ce13c",
   "metadata": {},
   "source": [
    "# changing case"
   ]
  },
  {
   "cell_type": "raw",
   "id": "0eff0036",
   "metadata": {},
   "source": [
    "title()\n",
    "lower()\n",
    "upper()"
   ]
  },
  {
   "cell_type": "code",
   "execution_count": 55,
   "id": "1fedf1a0",
   "metadata": {},
   "outputs": [
    {
     "name": "stdout",
     "output_type": "stream",
     "text": [
      "WELCOME TO PYTHON TUTORIAL IN 2022. PAK DEVELOPER ACADEMY MAKES A COMPLETE TUTORIAL OF PYTHON AND FOR AI COMMUNITY.\n"
     ]
    }
   ],
   "source": [
    "subscribe = \"Welcome to python tutorial in 2022. Pak Developer Academy makes a complete tutorial of python and for AI Community.\"\n",
    "\n",
    "print(subscribe.upper())"
   ]
  },
  {
   "cell_type": "markdown",
   "id": "d94a6071",
   "metadata": {},
   "source": [
    "Lower()"
   ]
  },
  {
   "cell_type": "code",
   "execution_count": 56,
   "id": "eb896e32",
   "metadata": {},
   "outputs": [
    {
     "name": "stdout",
     "output_type": "stream",
     "text": [
      "welcome to python tutorial in 2022. pak developer academy makes a complete tutorial of python and for ai community.\n"
     ]
    }
   ],
   "source": [
    "print(subscribe.lower())"
   ]
  },
  {
   "cell_type": "markdown",
   "id": "525189d5",
   "metadata": {},
   "source": [
    "Tital()"
   ]
  },
  {
   "cell_type": "code",
   "execution_count": 57,
   "id": "113daa61",
   "metadata": {},
   "outputs": [
    {
     "name": "stdout",
     "output_type": "stream",
     "text": [
      "Welcome To Python Tutorial In 2022. Pak Developer Academy Makes A Complete Tutorial Of Python And For Ai Community.\n"
     ]
    }
   ],
   "source": [
    "print(subscribe.title())"
   ]
  },
  {
   "cell_type": "code",
   "execution_count": null,
   "id": "194686d5",
   "metadata": {},
   "outputs": [],
   "source": []
  },
  {
   "cell_type": "markdown",
   "id": "ce8269ff",
   "metadata": {},
   "source": [
    "# Tuple"
   ]
  },
  {
   "cell_type": "markdown",
   "id": "1d19a398",
   "metadata": {},
   "source": [
    "A tuple is a fixed-length, immutable sequence of Python objects. The easiest way to\n",
    "create one is with a comma-separated sequence of values:\n"
   ]
  },
  {
   "cell_type": "code",
   "execution_count": 14,
   "id": "245eb792",
   "metadata": {},
   "outputs": [],
   "source": [
    "tup = 4,90,20,50"
   ]
  },
  {
   "cell_type": "code",
   "execution_count": 15,
   "id": "0fa04304",
   "metadata": {},
   "outputs": [
    {
     "data": {
      "text/plain": [
       "(4, 90, 20, 50)"
      ]
     },
     "execution_count": 15,
     "metadata": {},
     "output_type": "execute_result"
    }
   ],
   "source": [
    "tup"
   ]
  },
  {
   "cell_type": "markdown",
   "id": "eb52562f",
   "metadata": {},
   "source": [
    "Nested Tuple"
   ]
  },
  {
   "cell_type": "code",
   "execution_count": 20,
   "id": "c5ba55fd",
   "metadata": {},
   "outputs": [],
   "source": [
    "nested_tup = (4, 5, 6), (7, 8)"
   ]
  },
  {
   "cell_type": "code",
   "execution_count": 21,
   "id": "fcd21374",
   "metadata": {},
   "outputs": [
    {
     "data": {
      "text/plain": [
       "((4, 5, 6), (7, 8))"
      ]
     },
     "execution_count": 21,
     "metadata": {},
     "output_type": "execute_result"
    }
   ],
   "source": [
    "nested_tup"
   ]
  },
  {
   "cell_type": "code",
   "execution_count": null,
   "id": "ba30b1b1",
   "metadata": {},
   "outputs": [],
   "source": []
  },
  {
   "cell_type": "code",
   "execution_count": 24,
   "id": "f1f2925e",
   "metadata": {},
   "outputs": [
    {
     "data": {
      "text/plain": [
       "(4, 0, 2)"
      ]
     },
     "execution_count": 24,
     "metadata": {},
     "output_type": "execute_result"
    }
   ],
   "source": [
    "tuple([4, 0, 2])"
   ]
  },
  {
   "cell_type": "code",
   "execution_count": 25,
   "id": "69cd2ed1",
   "metadata": {},
   "outputs": [],
   "source": [
    "tup = tuple('string')"
   ]
  },
  {
   "cell_type": "code",
   "execution_count": 26,
   "id": "f420bf24",
   "metadata": {},
   "outputs": [
    {
     "data": {
      "text/plain": [
       "('s', 't', 'r', 'i', 'n', 'g')"
      ]
     },
     "execution_count": 26,
     "metadata": {},
     "output_type": "execute_result"
    }
   ],
   "source": [
    "tup"
   ]
  },
  {
   "cell_type": "code",
   "execution_count": null,
   "id": "e657bdb8",
   "metadata": {},
   "outputs": [],
   "source": []
  },
  {
   "cell_type": "code",
   "execution_count": 27,
   "id": "0817b6c4",
   "metadata": {},
   "outputs": [
    {
     "data": {
      "text/plain": [
       "('s', 't', 'r', 'i', 'n', 'g')"
      ]
     },
     "execution_count": 27,
     "metadata": {},
     "output_type": "execute_result"
    }
   ],
   "source": [
    "tuple('string')"
   ]
  },
  {
   "cell_type": "code",
   "execution_count": null,
   "id": "5768701d",
   "metadata": {},
   "outputs": [],
   "source": []
  },
  {
   "cell_type": "markdown",
   "id": "973586be",
   "metadata": {},
   "source": [
    "You can concatenate tuples using the + operator to produce longer tuples:\n"
   ]
  },
  {
   "cell_type": "code",
   "execution_count": 29,
   "id": "e991f3c5",
   "metadata": {},
   "outputs": [],
   "source": [
    "tuple = (4, None, 'foo') + (6, 0) + ('bar',)"
   ]
  },
  {
   "cell_type": "code",
   "execution_count": 30,
   "id": "3ccb8313",
   "metadata": {},
   "outputs": [
    {
     "data": {
      "text/plain": [
       "(4, None, 'foo', 6, 0, 'bar')"
      ]
     },
     "execution_count": 30,
     "metadata": {},
     "output_type": "execute_result"
    }
   ],
   "source": [
    "tuple"
   ]
  },
  {
   "cell_type": "markdown",
   "id": "350bf4d1",
   "metadata": {},
   "source": [
    "Multiplying with Tuple"
   ]
  },
  {
   "cell_type": "code",
   "execution_count": 31,
   "id": "f82a5c54",
   "metadata": {},
   "outputs": [
    {
     "name": "stdout",
     "output_type": "stream",
     "text": [
      "('foo', 'bar', 'foo', 'bar', 'foo', 'bar', 'foo', 'bar')\n"
     ]
    }
   ],
   "source": [
    "mul = ('foo', 'bar') * 4\n",
    "print(mul)"
   ]
  },
  {
   "cell_type": "code",
   "execution_count": 32,
   "id": "3846dcd5",
   "metadata": {},
   "outputs": [],
   "source": [
    "a, b = 1, 2"
   ]
  },
  {
   "cell_type": "code",
   "execution_count": 33,
   "id": "1a7ef00e",
   "metadata": {},
   "outputs": [
    {
     "data": {
      "text/plain": [
       "1"
      ]
     },
     "execution_count": 33,
     "metadata": {},
     "output_type": "execute_result"
    }
   ],
   "source": [
    "a"
   ]
  },
  {
   "cell_type": "code",
   "execution_count": 34,
   "id": "56e1ac04",
   "metadata": {},
   "outputs": [],
   "source": [
    "# sweap \n",
    "\n",
    "b, a = a, b"
   ]
  },
  {
   "cell_type": "code",
   "execution_count": 35,
   "id": "f7ab7cfa",
   "metadata": {},
   "outputs": [
    {
     "data": {
      "text/plain": [
       "1"
      ]
     },
     "execution_count": 35,
     "metadata": {},
     "output_type": "execute_result"
    }
   ],
   "source": [
    "b"
   ]
  },
  {
   "cell_type": "code",
   "execution_count": 36,
   "id": "d8dd9d16",
   "metadata": {},
   "outputs": [],
   "source": [
    "result_of_computation = ((2 * 4) * 4) + 2\n"
   ]
  },
  {
   "cell_type": "code",
   "execution_count": 37,
   "id": "59ffb564",
   "metadata": {},
   "outputs": [
    {
     "data": {
      "text/plain": [
       "34"
      ]
     },
     "execution_count": 37,
     "metadata": {},
     "output_type": "execute_result"
    }
   ],
   "source": [
    "result_of_computation"
   ]
  },
  {
   "cell_type": "code",
   "execution_count": null,
   "id": "b3326cca",
   "metadata": {},
   "outputs": [],
   "source": []
  }
 ],
 "metadata": {
  "kernelspec": {
   "display_name": "Python 3 (ipykernel)",
   "language": "python",
   "name": "python3"
  },
  "language_info": {
   "codemirror_mode": {
    "name": "ipython",
    "version": 3
   },
   "file_extension": ".py",
   "mimetype": "text/x-python",
   "name": "python",
   "nbconvert_exporter": "python",
   "pygments_lexer": "ipython3",
   "version": "3.9.7"
  }
 },
 "nbformat": 4,
 "nbformat_minor": 5
}
